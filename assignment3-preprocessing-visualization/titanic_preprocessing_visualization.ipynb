{
  "cells": [
    {
      "cell_type": "markdown",
      "metadata": {
        "id": "i7JLpl4lxtZS"
      },
      "source": [
        "##**Part 1: Data Preprocessing**"
      ]
    },
    {
      "cell_type": "markdown",
      "metadata": {
        "id": "ys6KTMQQZI2V"
      },
      "source": [
        "![th.jpeg](data:image/jpeg;base64,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)\n",
        "\n",
        "###**Getting to Know a Dataset:**\n",
        "\n",
        "You have recently joined a **data analysis team** that is investigating passenger **survival patterns on the Titanic**. You have been provided with the famous **Titanic** dataset. Your first task is to explore and clean the dataset using pandas."
      ]
    },
    {
      "cell_type": "markdown",
      "metadata": {
        "id": "Ovn_E4HSaUvi"
      },
      "source": [
        "**1.** Display the first fifteen rows of the **titanic** DataFrame."
      ]
    },
    {
      "cell_type": "code",
      "execution_count": null,
      "metadata": {
        "id": "q23HGYfHaniv",
        "outputId": "235d5bdf-a4fb-4ea2-ae41-3e11daf93af7"
      },
      "outputs": [
        {
          "data": {
            "text/html": [
              "<div>\n",
              "<style scoped>\n",
              "    .dataframe tbody tr th:only-of-type {\n",
              "        vertical-align: middle;\n",
              "    }\n",
              "\n",
              "    .dataframe tbody tr th {\n",
              "        vertical-align: top;\n",
              "    }\n",
              "\n",
              "    .dataframe thead th {\n",
              "        text-align: right;\n",
              "    }\n",
              "</style>\n",
              "<table border=\"1\" class=\"dataframe\">\n",
              "  <thead>\n",
              "    <tr style=\"text-align: right;\">\n",
              "      <th></th>\n",
              "      <th>PassengerId</th>\n",
              "      <th>Survived</th>\n",
              "      <th>Pclass</th>\n",
              "      <th>Name</th>\n",
              "      <th>Sex</th>\n",
              "      <th>Age</th>\n",
              "      <th>SibSp</th>\n",
              "      <th>Parch</th>\n",
              "      <th>Ticket</th>\n",
              "      <th>Fare</th>\n",
              "      <th>Cabin</th>\n",
              "      <th>Embarked</th>\n",
              "    </tr>\n",
              "  </thead>\n",
              "  <tbody>\n",
              "    <tr>\n",
              "      <th>0</th>\n",
              "      <td>1</td>\n",
              "      <td>0</td>\n",
              "      <td>3</td>\n",
              "      <td>Braund, Mr. Owen Harris</td>\n",
              "      <td>male</td>\n",
              "      <td>22.0</td>\n",
              "      <td>1</td>\n",
              "      <td>0</td>\n",
              "      <td>A/5 21171</td>\n",
              "      <td>7.2500</td>\n",
              "      <td>NaN</td>\n",
              "      <td>S</td>\n",
              "    </tr>\n",
              "    <tr>\n",
              "      <th>1</th>\n",
              "      <td>2</td>\n",
              "      <td>1</td>\n",
              "      <td>1</td>\n",
              "      <td>Cumings, Mrs. John Bradley (Florence Briggs Th...</td>\n",
              "      <td>female</td>\n",
              "      <td>38.0</td>\n",
              "      <td>1</td>\n",
              "      <td>0</td>\n",
              "      <td>PC 17599</td>\n",
              "      <td>71.2833</td>\n",
              "      <td>C85</td>\n",
              "      <td>C</td>\n",
              "    </tr>\n",
              "    <tr>\n",
              "      <th>2</th>\n",
              "      <td>3</td>\n",
              "      <td>1</td>\n",
              "      <td>3</td>\n",
              "      <td>Heikkinen, Miss. Laina</td>\n",
              "      <td>female</td>\n",
              "      <td>26.0</td>\n",
              "      <td>0</td>\n",
              "      <td>0</td>\n",
              "      <td>STON/O2. 3101282</td>\n",
              "      <td>7.9250</td>\n",
              "      <td>NaN</td>\n",
              "      <td>S</td>\n",
              "    </tr>\n",
              "    <tr>\n",
              "      <th>3</th>\n",
              "      <td>4</td>\n",
              "      <td>1</td>\n",
              "      <td>1</td>\n",
              "      <td>Futrelle, Mrs. Jacques Heath (Lily May Peel)</td>\n",
              "      <td>female</td>\n",
              "      <td>35.0</td>\n",
              "      <td>1</td>\n",
              "      <td>0</td>\n",
              "      <td>113803</td>\n",
              "      <td>53.1000</td>\n",
              "      <td>C123</td>\n",
              "      <td>S</td>\n",
              "    </tr>\n",
              "    <tr>\n",
              "      <th>4</th>\n",
              "      <td>5</td>\n",
              "      <td>0</td>\n",
              "      <td>3</td>\n",
              "      <td>Allen, Mr. William Henry</td>\n",
              "      <td>male</td>\n",
              "      <td>35.0</td>\n",
              "      <td>0</td>\n",
              "      <td>0</td>\n",
              "      <td>373450</td>\n",
              "      <td>8.0500</td>\n",
              "      <td>NaN</td>\n",
              "      <td>S</td>\n",
              "    </tr>\n",
              "    <tr>\n",
              "      <th>5</th>\n",
              "      <td>6</td>\n",
              "      <td>0</td>\n",
              "      <td>3</td>\n",
              "      <td>Moran, Mr. James</td>\n",
              "      <td>male</td>\n",
              "      <td>NaN</td>\n",
              "      <td>0</td>\n",
              "      <td>0</td>\n",
              "      <td>330877</td>\n",
              "      <td>8.4583</td>\n",
              "      <td>NaN</td>\n",
              "      <td>Q</td>\n",
              "    </tr>\n",
              "    <tr>\n",
              "      <th>6</th>\n",
              "      <td>7</td>\n",
              "      <td>0</td>\n",
              "      <td>1</td>\n",
              "      <td>McCarthy, Mr. Timothy J</td>\n",
              "      <td>male</td>\n",
              "      <td>54.0</td>\n",
              "      <td>0</td>\n",
              "      <td>0</td>\n",
              "      <td>17463</td>\n",
              "      <td>51.8625</td>\n",
              "      <td>E46</td>\n",
              "      <td>S</td>\n",
              "    </tr>\n",
              "    <tr>\n",
              "      <th>7</th>\n",
              "      <td>8</td>\n",
              "      <td>0</td>\n",
              "      <td>3</td>\n",
              "      <td>Palsson, Master. Gosta Leonard</td>\n",
              "      <td>male</td>\n",
              "      <td>2.0</td>\n",
              "      <td>3</td>\n",
              "      <td>1</td>\n",
              "      <td>349909</td>\n",
              "      <td>21.0750</td>\n",
              "      <td>NaN</td>\n",
              "      <td>S</td>\n",
              "    </tr>\n",
              "    <tr>\n",
              "      <th>8</th>\n",
              "      <td>9</td>\n",
              "      <td>1</td>\n",
              "      <td>3</td>\n",
              "      <td>Johnson, Mrs. Oscar W (Elisabeth Vilhelmina Berg)</td>\n",
              "      <td>female</td>\n",
              "      <td>27.0</td>\n",
              "      <td>0</td>\n",
              "      <td>2</td>\n",
              "      <td>347742</td>\n",
              "      <td>11.1333</td>\n",
              "      <td>NaN</td>\n",
              "      <td>S</td>\n",
              "    </tr>\n",
              "    <tr>\n",
              "      <th>9</th>\n",
              "      <td>10</td>\n",
              "      <td>1</td>\n",
              "      <td>2</td>\n",
              "      <td>Nasser, Mrs. Nicholas (Adele Achem)</td>\n",
              "      <td>female</td>\n",
              "      <td>14.0</td>\n",
              "      <td>1</td>\n",
              "      <td>0</td>\n",
              "      <td>237736</td>\n",
              "      <td>30.0708</td>\n",
              "      <td>NaN</td>\n",
              "      <td>C</td>\n",
              "    </tr>\n",
              "    <tr>\n",
              "      <th>10</th>\n",
              "      <td>11</td>\n",
              "      <td>1</td>\n",
              "      <td>3</td>\n",
              "      <td>Sandstrom, Miss. Marguerite Rut</td>\n",
              "      <td>female</td>\n",
              "      <td>4.0</td>\n",
              "      <td>1</td>\n",
              "      <td>1</td>\n",
              "      <td>PP 9549</td>\n",
              "      <td>16.7000</td>\n",
              "      <td>G6</td>\n",
              "      <td>S</td>\n",
              "    </tr>\n",
              "    <tr>\n",
              "      <th>11</th>\n",
              "      <td>12</td>\n",
              "      <td>1</td>\n",
              "      <td>1</td>\n",
              "      <td>Bonnell, Miss. Elizabeth</td>\n",
              "      <td>female</td>\n",
              "      <td>58.0</td>\n",
              "      <td>0</td>\n",
              "      <td>0</td>\n",
              "      <td>113783</td>\n",
              "      <td>26.5500</td>\n",
              "      <td>C103</td>\n",
              "      <td>S</td>\n",
              "    </tr>\n",
              "    <tr>\n",
              "      <th>12</th>\n",
              "      <td>13</td>\n",
              "      <td>0</td>\n",
              "      <td>3</td>\n",
              "      <td>Saundercock, Mr. William Henry</td>\n",
              "      <td>male</td>\n",
              "      <td>20.0</td>\n",
              "      <td>0</td>\n",
              "      <td>0</td>\n",
              "      <td>A/5. 2151</td>\n",
              "      <td>8.0500</td>\n",
              "      <td>NaN</td>\n",
              "      <td>S</td>\n",
              "    </tr>\n",
              "    <tr>\n",
              "      <th>13</th>\n",
              "      <td>14</td>\n",
              "      <td>0</td>\n",
              "      <td>3</td>\n",
              "      <td>Andersson, Mr. Anders Johan</td>\n",
              "      <td>male</td>\n",
              "      <td>39.0</td>\n",
              "      <td>1</td>\n",
              "      <td>5</td>\n",
              "      <td>347082</td>\n",
              "      <td>31.2750</td>\n",
              "      <td>NaN</td>\n",
              "      <td>S</td>\n",
              "    </tr>\n",
              "    <tr>\n",
              "      <th>14</th>\n",
              "      <td>15</td>\n",
              "      <td>0</td>\n",
              "      <td>3</td>\n",
              "      <td>Vestrom, Miss. Hulda Amanda Adolfina</td>\n",
              "      <td>female</td>\n",
              "      <td>14.0</td>\n",
              "      <td>0</td>\n",
              "      <td>0</td>\n",
              "      <td>350406</td>\n",
              "      <td>7.8542</td>\n",
              "      <td>NaN</td>\n",
              "      <td>S</td>\n",
              "    </tr>\n",
              "  </tbody>\n",
              "</table>\n",
              "</div>"
            ],
            "text/plain": [
              "    PassengerId  Survived  Pclass  \\\n",
              "0             1         0       3   \n",
              "1             2         1       1   \n",
              "2             3         1       3   \n",
              "3             4         1       1   \n",
              "4             5         0       3   \n",
              "5             6         0       3   \n",
              "6             7         0       1   \n",
              "7             8         0       3   \n",
              "8             9         1       3   \n",
              "9            10         1       2   \n",
              "10           11         1       3   \n",
              "11           12         1       1   \n",
              "12           13         0       3   \n",
              "13           14         0       3   \n",
              "14           15         0       3   \n",
              "\n",
              "                                                 Name     Sex   Age  SibSp  \\\n",
              "0                             Braund, Mr. Owen Harris    male  22.0      1   \n",
              "1   Cumings, Mrs. John Bradley (Florence Briggs Th...  female  38.0      1   \n",
              "2                              Heikkinen, Miss. Laina  female  26.0      0   \n",
              "3        Futrelle, Mrs. Jacques Heath (Lily May Peel)  female  35.0      1   \n",
              "4                            Allen, Mr. William Henry    male  35.0      0   \n",
              "5                                    Moran, Mr. James    male   NaN      0   \n",
              "6                             McCarthy, Mr. Timothy J    male  54.0      0   \n",
              "7                      Palsson, Master. Gosta Leonard    male   2.0      3   \n",
              "8   Johnson, Mrs. Oscar W (Elisabeth Vilhelmina Berg)  female  27.0      0   \n",
              "9                 Nasser, Mrs. Nicholas (Adele Achem)  female  14.0      1   \n",
              "10                    Sandstrom, Miss. Marguerite Rut  female   4.0      1   \n",
              "11                           Bonnell, Miss. Elizabeth  female  58.0      0   \n",
              "12                     Saundercock, Mr. William Henry    male  20.0      0   \n",
              "13                        Andersson, Mr. Anders Johan    male  39.0      1   \n",
              "14               Vestrom, Miss. Hulda Amanda Adolfina  female  14.0      0   \n",
              "\n",
              "    Parch            Ticket     Fare Cabin Embarked  \n",
              "0       0         A/5 21171   7.2500   NaN        S  \n",
              "1       0          PC 17599  71.2833   C85        C  \n",
              "2       0  STON/O2. 3101282   7.9250   NaN        S  \n",
              "3       0            113803  53.1000  C123        S  \n",
              "4       0            373450   8.0500   NaN        S  \n",
              "5       0            330877   8.4583   NaN        Q  \n",
              "6       0             17463  51.8625   E46        S  \n",
              "7       1            349909  21.0750   NaN        S  \n",
              "8       2            347742  11.1333   NaN        S  \n",
              "9       0            237736  30.0708   NaN        C  \n",
              "10      1           PP 9549  16.7000    G6        S  \n",
              "11      0            113783  26.5500  C103        S  \n",
              "12      0         A/5. 2151   8.0500   NaN        S  \n",
              "13      5            347082  31.2750   NaN        S  \n",
              "14      0            350406   7.8542   NaN        S  "
            ]
          },
          "execution_count": 70,
          "metadata": {},
          "output_type": "execute_result"
        }
      ],
      "source": [
        "import pandas as pd\n",
        "dataset=pd.read_csv(\"Titanic_Dataset.csv\")\n",
        "dataset.head(15)"
      ]
    },
    {
      "cell_type": "markdown",
      "metadata": {
        "id": "dzWcgFRIaoQW"
      },
      "source": [
        "**2.** Print a summary of column non-missing values and data types from the **titanic** DataFrame."
      ]
    },
    {
      "cell_type": "code",
      "execution_count": null,
      "metadata": {
        "id": "A8122sH6bB82",
        "outputId": "f0cb3a96-794b-4aea-cec3-03403a4729a1"
      },
      "outputs": [
        {
          "name": "stdout",
          "output_type": "stream",
          "text": [
            "<class 'pandas.core.frame.DataFrame'>\n",
            "RangeIndex: 891 entries, 0 to 890\n",
            "Data columns (total 12 columns):\n",
            " #   Column       Non-Null Count  Dtype  \n",
            "---  ------       --------------  -----  \n",
            " 0   PassengerId  891 non-null    int64  \n",
            " 1   Survived     891 non-null    int64  \n",
            " 2   Pclass       891 non-null    int64  \n",
            " 3   Name         891 non-null    object \n",
            " 4   Sex          891 non-null    object \n",
            " 5   Age          714 non-null    float64\n",
            " 6   SibSp        891 non-null    int64  \n",
            " 7   Parch        891 non-null    int64  \n",
            " 8   Ticket       891 non-null    object \n",
            " 9   Fare         891 non-null    float64\n",
            " 10  Cabin        204 non-null    object \n",
            " 11  Embarked     889 non-null    object \n",
            "dtypes: float64(2), int64(5), object(5)\n",
            "memory usage: 83.7+ KB\n"
          ]
        }
      ],
      "source": [
        "dataset.info()"
      ]
    },
    {
      "cell_type": "markdown",
      "metadata": {
        "id": "hIlLWQKebCSg"
      },
      "source": [
        "**3.** Print the summary statistics (count, mean, standard deviation, min, max, and quartile values) of each numerical column in **titanic**."
      ]
    },
    {
      "cell_type": "code",
      "execution_count": null,
      "metadata": {
        "id": "nQiiiPl_rwqI",
        "outputId": "85b7ab1d-696f-4abb-f5ab-cba58d31d4f8"
      },
      "outputs": [
        {
          "data": {
            "text/html": [
              "<div>\n",
              "<style scoped>\n",
              "    .dataframe tbody tr th:only-of-type {\n",
              "        vertical-align: middle;\n",
              "    }\n",
              "\n",
              "    .dataframe tbody tr th {\n",
              "        vertical-align: top;\n",
              "    }\n",
              "\n",
              "    .dataframe thead th {\n",
              "        text-align: right;\n",
              "    }\n",
              "</style>\n",
              "<table border=\"1\" class=\"dataframe\">\n",
              "  <thead>\n",
              "    <tr style=\"text-align: right;\">\n",
              "      <th></th>\n",
              "      <th>PassengerId</th>\n",
              "      <th>Survived</th>\n",
              "      <th>Pclass</th>\n",
              "      <th>Age</th>\n",
              "      <th>SibSp</th>\n",
              "      <th>Parch</th>\n",
              "      <th>Fare</th>\n",
              "    </tr>\n",
              "  </thead>\n",
              "  <tbody>\n",
              "    <tr>\n",
              "      <th>count</th>\n",
              "      <td>891.000000</td>\n",
              "      <td>891.000000</td>\n",
              "      <td>891.000000</td>\n",
              "      <td>714.000000</td>\n",
              "      <td>891.000000</td>\n",
              "      <td>891.000000</td>\n",
              "      <td>891.000000</td>\n",
              "    </tr>\n",
              "    <tr>\n",
              "      <th>mean</th>\n",
              "      <td>446.000000</td>\n",
              "      <td>0.383838</td>\n",
              "      <td>2.308642</td>\n",
              "      <td>29.699118</td>\n",
              "      <td>0.523008</td>\n",
              "      <td>0.381594</td>\n",
              "      <td>32.204208</td>\n",
              "    </tr>\n",
              "    <tr>\n",
              "      <th>std</th>\n",
              "      <td>257.353842</td>\n",
              "      <td>0.486592</td>\n",
              "      <td>0.836071</td>\n",
              "      <td>14.526497</td>\n",
              "      <td>1.102743</td>\n",
              "      <td>0.806057</td>\n",
              "      <td>49.693429</td>\n",
              "    </tr>\n",
              "    <tr>\n",
              "      <th>min</th>\n",
              "      <td>1.000000</td>\n",
              "      <td>0.000000</td>\n",
              "      <td>1.000000</td>\n",
              "      <td>0.420000</td>\n",
              "      <td>0.000000</td>\n",
              "      <td>0.000000</td>\n",
              "      <td>0.000000</td>\n",
              "    </tr>\n",
              "    <tr>\n",
              "      <th>25%</th>\n",
              "      <td>223.500000</td>\n",
              "      <td>0.000000</td>\n",
              "      <td>2.000000</td>\n",
              "      <td>20.125000</td>\n",
              "      <td>0.000000</td>\n",
              "      <td>0.000000</td>\n",
              "      <td>7.910400</td>\n",
              "    </tr>\n",
              "    <tr>\n",
              "      <th>50%</th>\n",
              "      <td>446.000000</td>\n",
              "      <td>0.000000</td>\n",
              "      <td>3.000000</td>\n",
              "      <td>28.000000</td>\n",
              "      <td>0.000000</td>\n",
              "      <td>0.000000</td>\n",
              "      <td>14.454200</td>\n",
              "    </tr>\n",
              "    <tr>\n",
              "      <th>75%</th>\n",
              "      <td>668.500000</td>\n",
              "      <td>1.000000</td>\n",
              "      <td>3.000000</td>\n",
              "      <td>38.000000</td>\n",
              "      <td>1.000000</td>\n",
              "      <td>0.000000</td>\n",
              "      <td>31.000000</td>\n",
              "    </tr>\n",
              "    <tr>\n",
              "      <th>max</th>\n",
              "      <td>891.000000</td>\n",
              "      <td>1.000000</td>\n",
              "      <td>3.000000</td>\n",
              "      <td>80.000000</td>\n",
              "      <td>8.000000</td>\n",
              "      <td>6.000000</td>\n",
              "      <td>512.329200</td>\n",
              "    </tr>\n",
              "  </tbody>\n",
              "</table>\n",
              "</div>"
            ],
            "text/plain": [
              "       PassengerId    Survived      Pclass         Age       SibSp  \\\n",
              "count   891.000000  891.000000  891.000000  714.000000  891.000000   \n",
              "mean    446.000000    0.383838    2.308642   29.699118    0.523008   \n",
              "std     257.353842    0.486592    0.836071   14.526497    1.102743   \n",
              "min       1.000000    0.000000    1.000000    0.420000    0.000000   \n",
              "25%     223.500000    0.000000    2.000000   20.125000    0.000000   \n",
              "50%     446.000000    0.000000    3.000000   28.000000    0.000000   \n",
              "75%     668.500000    1.000000    3.000000   38.000000    1.000000   \n",
              "max     891.000000    1.000000    3.000000   80.000000    8.000000   \n",
              "\n",
              "            Parch        Fare  \n",
              "count  891.000000  891.000000  \n",
              "mean     0.381594   32.204208  \n",
              "std      0.806057   49.693429  \n",
              "min      0.000000    0.000000  \n",
              "25%      0.000000    7.910400  \n",
              "50%      0.000000   14.454200  \n",
              "75%      0.000000   31.000000  \n",
              "max      6.000000  512.329200  "
            ]
          },
          "execution_count": 72,
          "metadata": {},
          "output_type": "execute_result"
        }
      ],
      "source": [
        "dataset.describe()"
      ]
    },
    {
      "cell_type": "markdown",
      "metadata": {
        "id": "eE1xe6FGbwwP"
      },
      "source": [
        "**4.** Count and display the number of unique passenger classes **Pclass** in the dataset."
      ]
    },
    {
      "cell_type": "code",
      "execution_count": null,
      "metadata": {
        "id": "R5mIH5BCstpV",
        "outputId": "580b8642-64d5-4e4e-8e0e-61e498fe058d"
      },
      "outputs": [
        {
          "name": "stdout",
          "output_type": "stream",
          "text": [
            "Total Unique Passenger Classes: 3\n",
            "Passenger Class Categories: [3 1 2]\n"
          ]
        }
      ],
      "source": [
        "total_unique_pclass = dataset['Pclass'].nunique()\n",
        "type_pclass = dataset['Pclass'].unique()\n",
        "print(f\"Total Unique Passenger Classes: {total_unique_pclass}\")\n",
        "print(f\"Passenger Class Categories: {type_pclass}\")"
      ]
    },
    {
      "cell_type": "markdown",
      "metadata": {
        "id": "PEThO9qgsueG"
      },
      "source": [
        "**5.** Use a method to count the number of passengers by gender **(column \"Sex\")** in the **titanic** dataset."
      ]
    },
    {
      "cell_type": "code",
      "execution_count": null,
      "metadata": {
        "id": "sy-DihUebzuW",
        "outputId": "ad0c22fc-046b-4797-a68a-2ae9bde0a671"
      },
      "outputs": [
        {
          "name": "stdout",
          "output_type": "stream",
          "text": [
            "Number of Passengers by Gender\n",
            " Sex\n",
            "male      577\n",
            "female    314\n",
            "Name: count, dtype: int64\n"
          ]
        }
      ],
      "source": [
        "count_by_gender = dataset['Sex'].value_counts()\n",
        "print(\"Number of Passengers by Gender\\n\", count_by_gender)"
      ]
    },
    {
      "cell_type": "markdown",
      "metadata": {
        "id": "GS0JAKPHcSel"
      },
      "source": [
        "**6.** Find the top five ticket prices **(Fare)** in the dataset."
      ]
    },
    {
      "cell_type": "code",
      "execution_count": null,
      "metadata": {
        "id": "64niEczDcZAj",
        "outputId": "ed2cf876-5eac-44e0-98b1-d492352b2107"
      },
      "outputs": [
        {
          "name": "stdout",
          "output_type": "stream",
          "text": [
            "Top 5 Ticket Prices\n",
            " 258    512.3292\n",
            "679    512.3292\n",
            "737    512.3292\n",
            "27     263.0000\n",
            "88     263.0000\n",
            "Name: Fare, dtype: float64\n"
          ]
        }
      ],
      "source": [
        "most_expensive_tickets = dataset['Fare'].nlargest(5)\n",
        "print(\"Top 5 Ticket Prices\\n\", most_expensive_tickets)"
      ]
    },
    {
      "cell_type": "markdown",
      "metadata": {
        "id": "h2liJGIlcZgl"
      },
      "source": [
        "**7.** Your colleague has informed you that the data on passengers in **Pclass 3** (third class) is incomplete, and you'd like to identify and exclude these passengers from your analysis. Your task is to identify passengers who are not in Pclass 3."
      ]
    },
    {
      "cell_type": "code",
      "execution_count": null,
      "metadata": {
        "id": "f5ZTBNcNdcjO",
        "outputId": "ed4adc29-acc0-4c1c-f39a-90165d804449"
      },
      "outputs": [
        {
          "data": {
            "text/html": [
              "<div>\n",
              "<style scoped>\n",
              "    .dataframe tbody tr th:only-of-type {\n",
              "        vertical-align: middle;\n",
              "    }\n",
              "\n",
              "    .dataframe tbody tr th {\n",
              "        vertical-align: top;\n",
              "    }\n",
              "\n",
              "    .dataframe thead th {\n",
              "        text-align: right;\n",
              "    }\n",
              "</style>\n",
              "<table border=\"1\" class=\"dataframe\">\n",
              "  <thead>\n",
              "    <tr style=\"text-align: right;\">\n",
              "      <th></th>\n",
              "      <th>PassengerId</th>\n",
              "      <th>Survived</th>\n",
              "      <th>Pclass</th>\n",
              "      <th>Name</th>\n",
              "      <th>Sex</th>\n",
              "      <th>Age</th>\n",
              "      <th>SibSp</th>\n",
              "      <th>Parch</th>\n",
              "      <th>Ticket</th>\n",
              "      <th>Fare</th>\n",
              "      <th>Cabin</th>\n",
              "      <th>Embarked</th>\n",
              "    </tr>\n",
              "  </thead>\n",
              "  <tbody>\n",
              "    <tr>\n",
              "      <th>1</th>\n",
              "      <td>2</td>\n",
              "      <td>1</td>\n",
              "      <td>1</td>\n",
              "      <td>Cumings, Mrs. John Bradley (Florence Briggs Th...</td>\n",
              "      <td>female</td>\n",
              "      <td>38.0</td>\n",
              "      <td>1</td>\n",
              "      <td>0</td>\n",
              "      <td>PC 17599</td>\n",
              "      <td>71.2833</td>\n",
              "      <td>C85</td>\n",
              "      <td>C</td>\n",
              "    </tr>\n",
              "    <tr>\n",
              "      <th>3</th>\n",
              "      <td>4</td>\n",
              "      <td>1</td>\n",
              "      <td>1</td>\n",
              "      <td>Futrelle, Mrs. Jacques Heath (Lily May Peel)</td>\n",
              "      <td>female</td>\n",
              "      <td>35.0</td>\n",
              "      <td>1</td>\n",
              "      <td>0</td>\n",
              "      <td>113803</td>\n",
              "      <td>53.1000</td>\n",
              "      <td>C123</td>\n",
              "      <td>S</td>\n",
              "    </tr>\n",
              "    <tr>\n",
              "      <th>6</th>\n",
              "      <td>7</td>\n",
              "      <td>0</td>\n",
              "      <td>1</td>\n",
              "      <td>McCarthy, Mr. Timothy J</td>\n",
              "      <td>male</td>\n",
              "      <td>54.0</td>\n",
              "      <td>0</td>\n",
              "      <td>0</td>\n",
              "      <td>17463</td>\n",
              "      <td>51.8625</td>\n",
              "      <td>E46</td>\n",
              "      <td>S</td>\n",
              "    </tr>\n",
              "    <tr>\n",
              "      <th>9</th>\n",
              "      <td>10</td>\n",
              "      <td>1</td>\n",
              "      <td>2</td>\n",
              "      <td>Nasser, Mrs. Nicholas (Adele Achem)</td>\n",
              "      <td>female</td>\n",
              "      <td>14.0</td>\n",
              "      <td>1</td>\n",
              "      <td>0</td>\n",
              "      <td>237736</td>\n",
              "      <td>30.0708</td>\n",
              "      <td>NaN</td>\n",
              "      <td>C</td>\n",
              "    </tr>\n",
              "    <tr>\n",
              "      <th>11</th>\n",
              "      <td>12</td>\n",
              "      <td>1</td>\n",
              "      <td>1</td>\n",
              "      <td>Bonnell, Miss. Elizabeth</td>\n",
              "      <td>female</td>\n",
              "      <td>58.0</td>\n",
              "      <td>0</td>\n",
              "      <td>0</td>\n",
              "      <td>113783</td>\n",
              "      <td>26.5500</td>\n",
              "      <td>C103</td>\n",
              "      <td>S</td>\n",
              "    </tr>\n",
              "    <tr>\n",
              "      <th>...</th>\n",
              "      <td>...</td>\n",
              "      <td>...</td>\n",
              "      <td>...</td>\n",
              "      <td>...</td>\n",
              "      <td>...</td>\n",
              "      <td>...</td>\n",
              "      <td>...</td>\n",
              "      <td>...</td>\n",
              "      <td>...</td>\n",
              "      <td>...</td>\n",
              "      <td>...</td>\n",
              "      <td>...</td>\n",
              "    </tr>\n",
              "    <tr>\n",
              "      <th>880</th>\n",
              "      <td>881</td>\n",
              "      <td>1</td>\n",
              "      <td>2</td>\n",
              "      <td>Shelley, Mrs. William (Imanita Parrish Hall)</td>\n",
              "      <td>female</td>\n",
              "      <td>25.0</td>\n",
              "      <td>0</td>\n",
              "      <td>1</td>\n",
              "      <td>230433</td>\n",
              "      <td>26.0000</td>\n",
              "      <td>NaN</td>\n",
              "      <td>S</td>\n",
              "    </tr>\n",
              "    <tr>\n",
              "      <th>883</th>\n",
              "      <td>884</td>\n",
              "      <td>0</td>\n",
              "      <td>2</td>\n",
              "      <td>Banfield, Mr. Frederick James</td>\n",
              "      <td>male</td>\n",
              "      <td>28.0</td>\n",
              "      <td>0</td>\n",
              "      <td>0</td>\n",
              "      <td>C.A./SOTON 34068</td>\n",
              "      <td>10.5000</td>\n",
              "      <td>NaN</td>\n",
              "      <td>S</td>\n",
              "    </tr>\n",
              "    <tr>\n",
              "      <th>886</th>\n",
              "      <td>887</td>\n",
              "      <td>0</td>\n",
              "      <td>2</td>\n",
              "      <td>Montvila, Rev. Juozas</td>\n",
              "      <td>male</td>\n",
              "      <td>27.0</td>\n",
              "      <td>0</td>\n",
              "      <td>0</td>\n",
              "      <td>211536</td>\n",
              "      <td>13.0000</td>\n",
              "      <td>NaN</td>\n",
              "      <td>S</td>\n",
              "    </tr>\n",
              "    <tr>\n",
              "      <th>887</th>\n",
              "      <td>888</td>\n",
              "      <td>1</td>\n",
              "      <td>1</td>\n",
              "      <td>Graham, Miss. Margaret Edith</td>\n",
              "      <td>female</td>\n",
              "      <td>19.0</td>\n",
              "      <td>0</td>\n",
              "      <td>0</td>\n",
              "      <td>112053</td>\n",
              "      <td>30.0000</td>\n",
              "      <td>B42</td>\n",
              "      <td>S</td>\n",
              "    </tr>\n",
              "    <tr>\n",
              "      <th>889</th>\n",
              "      <td>890</td>\n",
              "      <td>1</td>\n",
              "      <td>1</td>\n",
              "      <td>Behr, Mr. Karl Howell</td>\n",
              "      <td>male</td>\n",
              "      <td>26.0</td>\n",
              "      <td>0</td>\n",
              "      <td>0</td>\n",
              "      <td>111369</td>\n",
              "      <td>30.0000</td>\n",
              "      <td>C148</td>\n",
              "      <td>C</td>\n",
              "    </tr>\n",
              "  </tbody>\n",
              "</table>\n",
              "<p>400 rows × 12 columns</p>\n",
              "</div>"
            ],
            "text/plain": [
              "     PassengerId  Survived  Pclass  \\\n",
              "1              2         1       1   \n",
              "3              4         1       1   \n",
              "6              7         0       1   \n",
              "9             10         1       2   \n",
              "11            12         1       1   \n",
              "..           ...       ...     ...   \n",
              "880          881         1       2   \n",
              "883          884         0       2   \n",
              "886          887         0       2   \n",
              "887          888         1       1   \n",
              "889          890         1       1   \n",
              "\n",
              "                                                  Name     Sex   Age  SibSp  \\\n",
              "1    Cumings, Mrs. John Bradley (Florence Briggs Th...  female  38.0      1   \n",
              "3         Futrelle, Mrs. Jacques Heath (Lily May Peel)  female  35.0      1   \n",
              "6                              McCarthy, Mr. Timothy J    male  54.0      0   \n",
              "9                  Nasser, Mrs. Nicholas (Adele Achem)  female  14.0      1   \n",
              "11                            Bonnell, Miss. Elizabeth  female  58.0      0   \n",
              "..                                                 ...     ...   ...    ...   \n",
              "880       Shelley, Mrs. William (Imanita Parrish Hall)  female  25.0      0   \n",
              "883                      Banfield, Mr. Frederick James    male  28.0      0   \n",
              "886                              Montvila, Rev. Juozas    male  27.0      0   \n",
              "887                       Graham, Miss. Margaret Edith  female  19.0      0   \n",
              "889                              Behr, Mr. Karl Howell    male  26.0      0   \n",
              "\n",
              "     Parch            Ticket     Fare Cabin Embarked  \n",
              "1        0          PC 17599  71.2833   C85        C  \n",
              "3        0            113803  53.1000  C123        S  \n",
              "6        0             17463  51.8625   E46        S  \n",
              "9        0            237736  30.0708   NaN        C  \n",
              "11       0            113783  26.5500  C103        S  \n",
              "..     ...               ...      ...   ...      ...  \n",
              "880      1            230433  26.0000   NaN        S  \n",
              "883      0  C.A./SOTON 34068  10.5000   NaN        S  \n",
              "886      0            211536  13.0000   NaN        S  \n",
              "887      0            112053  30.0000   B42        S  \n",
              "889      0            111369  30.0000  C148        C  \n",
              "\n",
              "[400 rows x 12 columns]"
            ]
          },
          "execution_count": 76,
          "metadata": {},
          "output_type": "execute_result"
        }
      ],
      "source": [
        "filtered_dataset=dataset[dataset[\"Pclass\"]!=3].copy()\n",
        "filtered_dataset"
      ]
    },
    {
      "cell_type": "markdown",
      "metadata": {
        "id": "bkaToW7i8Fh5"
      },
      "source": [
        "###**Data Cleaning:**"
      ]
    },
    {
      "cell_type": "markdown",
      "metadata": {
        "id": "d3Q3oW6ddv9X"
      },
      "source": [
        "####**Addressing Missing Data:**\n",
        "\n",
        "The **Titanic** dataset contains missing values that need to be handled before analysis."
      ]
    },
    {
      "cell_type": "markdown",
      "metadata": {
        "id": "83Q87bFFeEUl"
      },
      "source": [
        "**1.** Print the number of missing values in each column of the **titanic** DataFrame."
      ]
    },
    {
      "cell_type": "code",
      "execution_count": null,
      "metadata": {
        "id": "7BMx068tfZRd",
        "outputId": "966ad23a-9550-4f9a-b8d1-b21c96bdeeae"
      },
      "outputs": [
        {
          "data": {
            "text/plain": [
              "PassengerId      0\n",
              "Survived         0\n",
              "Pclass           0\n",
              "Name             0\n",
              "Sex              0\n",
              "Age             41\n",
              "SibSp            0\n",
              "Parch            0\n",
              "Ticket           0\n",
              "Fare             0\n",
              "Cabin          208\n",
              "Embarked         2\n",
              "dtype: int64"
            ]
          },
          "execution_count": 77,
          "metadata": {},
          "output_type": "execute_result"
        }
      ],
      "source": [
        "filtered_dataset.isnull().sum()"
      ]
    },
    {
      "cell_type": "markdown",
      "metadata": {
        "id": "lRF66UjDfZkT"
      },
      "source": [
        "**2.** Check the distribution of the **Age** column using a histogram. After analyzing the distribution of the column, handle the missing values in the Age column by imputing or removing them. Justify your choice of handling method."
      ]
    },
    {
      "cell_type": "code",
      "execution_count": null,
      "metadata": {
        "id": "J8ke6ltcfvPG",
        "outputId": "f7efb048-1077-4095-8d15-ccd2d3776ec1"
      },
      "outputs": [
        {
          "data": {
            "image/png": "[encoded data removed]",
            "text/plain": [
              "<Figure size 800x500 with 1 Axes>"
            ]
          },
          "metadata": {},
          "output_type": "display_data"
        }
      ],
      "source": [
        "import matplotlib.pyplot as plt\n",
        "import seaborn as sb\n",
        "plt.figure(figsize=(8, 5))\n",
        "sb.histplot(filtered_dataset['Age'], bins=30, kde=True, color='purple')\n",
        "plt.xlabel('Age')\n",
        "plt.ylabel('Count')\n",
        "plt.title('Distribution of Age')\n",
        "plt.show()"
      ]
    },
    {
      "cell_type": "markdown",
      "metadata": {
        "id": "aTF3Ofb-RHUN"
      },
      "source": [
        "## Checking Distribution with a Histogram  \n",
        "The histogram showed that:  \n",
        "- The data is **right-skewed**, meaning there are more younger passengers.  \n",
        "- There are some **outliers** in higher age values.  \n",
        "- Several values are **missing**, but removing them could lead to data loss.  \n",
        "\n",
        "## Why Impute Instead of Remove?  \n",
        "- **Avoids data loss:** Dropping rows with missing values would reduce our dataset, potentially losing important patterns.   \n",
        "\n",
        "## Imputation Choice: Median  \n",
        "Since the histogram shows a skewed distribution, the **median** is a better option than the **mean** because:  \n",
        "- The **median is less affected by outliers**, making it more stable.  \n",
        "- It gives a more **realistic replacement** for missing values in a non-normally distributed column.  "
      ]
    },
    {
      "cell_type": "code",
      "execution_count": null,
      "metadata": {
        "id": "jKMVdOO_RHUO"
      },
      "outputs": [],
      "source": [
        "filtered_dataset.loc[:, 'Age'] = filtered_dataset['Age'].fillna(filtered_dataset['Age'].median())"
      ]
    },
    {
      "cell_type": "code",
      "execution_count": null,
      "metadata": {
        "id": "AZ9hZfBxRHUO",
        "outputId": "983e067e-4fda-4dfc-845e-994453fcae31"
      },
      "outputs": [
        {
          "data": {
            "text/plain": [
              "PassengerId      0\n",
              "Survived         0\n",
              "Pclass           0\n",
              "Name             0\n",
              "Sex              0\n",
              "Age              0\n",
              "SibSp            0\n",
              "Parch            0\n",
              "Ticket           0\n",
              "Fare             0\n",
              "Cabin          208\n",
              "Embarked         2\n",
              "dtype: int64"
            ]
          },
          "execution_count": 80,
          "metadata": {},
          "output_type": "execute_result"
        }
      ],
      "source": [
        "filtered_dataset.isnull().sum()"
      ]
    },
    {
      "cell_type": "markdown",
      "metadata": {
        "id": "8owByEoioVRo"
      },
      "source": [
        "**3.** Handle the missing values in the **Cabin** column by filling them with the value **\"Unknown\"**."
      ]
    },
    {
      "cell_type": "code",
      "execution_count": null,
      "metadata": {
        "id": "25AV5Ue0u6F_"
      },
      "outputs": [],
      "source": [
        "filtered_dataset.loc[:,'Cabin'] = filtered_dataset['Cabin'].fillna(\"Unknown\")"
      ]
    },
    {
      "cell_type": "code",
      "execution_count": null,
      "metadata": {
        "id": "YMIDRzLSRHUP",
        "outputId": "6e0d5718-3bc4-473c-f305-2116e12d1458"
      },
      "outputs": [
        {
          "data": {
            "text/plain": [
              "PassengerId    0\n",
              "Survived       0\n",
              "Pclass         0\n",
              "Name           0\n",
              "Sex            0\n",
              "Age            0\n",
              "SibSp          0\n",
              "Parch          0\n",
              "Ticket         0\n",
              "Fare           0\n",
              "Cabin          0\n",
              "Embarked       2\n",
              "dtype: int64"
            ]
          },
          "execution_count": 82,
          "metadata": {},
          "output_type": "execute_result"
        }
      ],
      "source": [
        "filtered_dataset.isnull().sum()"
      ]
    },
    {
      "cell_type": "markdown",
      "metadata": {
        "id": "iz1B_IvBu6bW"
      },
      "source": [
        "**4.** Handle the missing values in the **Embarked** column by filling them with the most frequent value (mode)."
      ]
    },
    {
      "cell_type": "code",
      "execution_count": null,
      "metadata": {
        "id": "lED_gft4vne1"
      },
      "outputs": [],
      "source": [
        "filtered_dataset.loc[:,'Embarked'] = filtered_dataset['Embarked'].fillna(filtered_dataset['Embarked'].mode()[0])"
      ]
    },
    {
      "cell_type": "code",
      "execution_count": null,
      "metadata": {
        "id": "-3lfNU1kRHUP",
        "outputId": "060770fa-74ac-4642-d415-c924f460b526"
      },
      "outputs": [
        {
          "data": {
            "text/plain": [
              "PassengerId    0\n",
              "Survived       0\n",
              "Pclass         0\n",
              "Name           0\n",
              "Sex            0\n",
              "Age            0\n",
              "SibSp          0\n",
              "Parch          0\n",
              "Ticket         0\n",
              "Fare           0\n",
              "Cabin          0\n",
              "Embarked       0\n",
              "dtype: int64"
            ]
          },
          "execution_count": 84,
          "metadata": {},
          "output_type": "execute_result"
        }
      ],
      "source": [
        "filtered_dataset.isnull().sum()"
      ]
    },
    {
      "cell_type": "markdown",
      "metadata": {
        "id": "4_anAdyPfvhQ"
      },
      "source": [
        "####**Handling Outliers:**\n",
        "\n",
        "Identifying and dealing with outliers is an integral step of Data preprocessing."
      ]
    },
    {
      "cell_type": "markdown",
      "metadata": {
        "id": "gU-DUDJrhBCA"
      },
      "source": [
        "**1.** Try to figure out if there are outliers in the **Fare** column of the **titanic** dataset using box plot."
      ]
    },
    {
      "cell_type": "code",
      "execution_count": null,
      "metadata": {
        "id": "Me-mbGGIhAP9",
        "outputId": "66d83ae3-eb6d-4397-8bf2-5a245d947c8c"
      },
      "outputs": [
        {
          "data": {
            "image/png": "[encoded data removed]",
            "text/plain": [
              "<Figure size 800x500 with 1 Axes>"
            ]
          },
          "metadata": {},
          "output_type": "display_data"
        }
      ],
      "source": [
        "plt.figure(figsize=(8, 5))\n",
        "sb.boxplot(x=filtered_dataset['Fare'], color='yellow')\n",
        "plt.title('Box Plot of Fare')\n",
        "plt.xlabel('Fare')\n",
        "plt.show()"
      ]
    },
    {
      "cell_type": "markdown",
      "metadata": {
        "id": "7qao3Ch7RHUR"
      },
      "source": [
        "## Boxplot Analysis  \n",
        "The boxplot clearly shows that:  \n",
        "- The **majority of data** lies within the interquartile range (IQR).  \n",
        "- Some **data points appear above the upper whisker**, indicating **outliers on the right**.  \n",
        "- This suggests that a few passengers were significantly older compared to the majority.   \n",
        "- These outliers could represent **elderly passengers** who were less common on the Titanic.  \n",
        "- They might impact **statistical calculations**, such as mean imputation, which is why we chose **median imputation** instead.  \n",
        "- Since they are **valid data points**, we should not remove them without further investigation.  \n",
        "\n",
        "This confirms that our dataset has **right-skewed age distribution with some extreme values**.  \n"
      ]
    },
    {
      "cell_type": "markdown",
      "metadata": {
        "id": "RlyRuxuChftR"
      },
      "source": [
        "**2.** Check the distribution of the **Fare** column using a histogram. After analyzing the distribution of the column, you have to only include passengers where the **Fare** is not an outlier using the Interquartile Range (IQR) method or Z-Score method. Justify your selection."
      ]
    },
    {
      "cell_type": "code",
      "execution_count": null,
      "metadata": {
        "id": "y-rUvh2WhuCw",
        "outputId": "6cd42057-b3a5-4129-b457-658753c1884f"
      },
      "outputs": [
        {
          "data": {
            "image/png": "[encoded data removed]",
            "text/plain": [
              "<Figure size 800x500 with 1 Axes>"
            ]
          },
          "metadata": {},
          "output_type": "display_data"
        }
      ],
      "source": [
        "plt.figure(figsize=(8, 5))\n",
        "sb.histplot(filtered_dataset['Fare'], bins=30, kde=True, color='green')\n",
        "plt.title('Distribution of Fare')\n",
        "plt.xlabel('Fare')\n",
        "plt.ylabel('Count')\n",
        "plt.show()\n"
      ]
    },
    {
      "cell_type": "markdown",
      "metadata": {
        "id": "AjKW21avRHUR"
      },
      "source": [
        "# Handling Outliers in the Fare Column  \n",
        "From the plot, we observed:  \n",
        "- The **distribution is highly right-skewed**, with a few extremely high values.  \n",
        "- A **majority of passengers paid lower fares**, while a few paid significantly more.  \n",
        "\n",
        "## Outlier Removal Using IQR  \n",
        "To handle outliers, we used the **Interquartile Range (IQR) method** instead of the **Z-Score method**.  \n",
        "\n",
        "### Why IQR?  \n",
        "**Better for skewed data:** The Fare column is not normally distributed; it's **right-skewed**. The **Z-Score method assumes normality**, making it less suitable.  \n",
        "**Less affected by extreme values:** IQR focuses on the middle 50% of the data, making it **robust against extreme fares**.   \n",
        "- Any values **below Q1 - 1.5 * IQR** or **above Q3 + 1.5 * IQR** were considered outliers and removed.  "
      ]
    },
    {
      "cell_type": "code",
      "execution_count": null,
      "metadata": {
        "id": "OykkZCzGRHUa"
      },
      "outputs": [],
      "source": [
        "Q1 = filtered_dataset['Fare'].quantile(0.25)\n",
        "Q3 = filtered_dataset['Fare'].quantile(0.75)\n",
        "IQR = Q3 - Q1\n",
        "\n",
        "lower_bound = Q1 - 1.5 * IQR\n",
        "upper_bound = Q3 + 1.5 * IQR\n",
        "\n",
        "cleaned_dataset = filtered_dataset[(filtered_dataset['Fare'] >= lower_bound) & (filtered_dataset['Fare'] <= upper_bound)].copy()\n"
      ]
    },
    {
      "cell_type": "markdown",
      "metadata": {
        "id": "COBINJF_rjPS"
      },
      "source": [
        "**3.** Perform equal-width binning on **Age** column to categorize continuous values into discrete bins and apply meadian smoothing."
      ]
    },
    {
      "cell_type": "code",
      "execution_count": null,
      "metadata": {
        "id": "LA4JBj9pritb"
      },
      "outputs": [],
      "source": [
        "num_bins = 5\n",
        "cleaned_dataset.loc[:,'Age_Bins'] = pd.cut(cleaned_dataset['Age'], bins=num_bins, labels=False)"
      ]
    },
    {
      "cell_type": "code",
      "execution_count": null,
      "metadata": {
        "id": "PbWDr0tlRHUb"
      },
      "outputs": [],
      "source": [
        "median_ages = cleaned_dataset.groupby('Age_Bins')['Age'].median()"
      ]
    },
    {
      "cell_type": "code",
      "execution_count": null,
      "metadata": {
        "id": "jFajOMgwRHUb"
      },
      "outputs": [],
      "source": [
        "cleaned_dataset.loc[:,'New_Age'] = cleaned_dataset['Age_Bins'].map(median_ages).copy()"
      ]
    },
    {
      "cell_type": "code",
      "execution_count": null,
      "metadata": {
        "id": "ql9eSNqMRHUc",
        "outputId": "02333ee2-9f38-4edf-a591-1d7370d7fc38"
      },
      "outputs": [
        {
          "data": {
            "text/html": [
              "<div>\n",
              "<style scoped>\n",
              "    .dataframe tbody tr th:only-of-type {\n",
              "        vertical-align: middle;\n",
              "    }\n",
              "\n",
              "    .dataframe tbody tr th {\n",
              "        vertical-align: top;\n",
              "    }\n",
              "\n",
              "    .dataframe thead th {\n",
              "        text-align: right;\n",
              "    }\n",
              "</style>\n",
              "<table border=\"1\" class=\"dataframe\">\n",
              "  <thead>\n",
              "    <tr style=\"text-align: right;\">\n",
              "      <th></th>\n",
              "      <th>PassengerId</th>\n",
              "      <th>Survived</th>\n",
              "      <th>Pclass</th>\n",
              "      <th>Name</th>\n",
              "      <th>Sex</th>\n",
              "      <th>Age</th>\n",
              "      <th>SibSp</th>\n",
              "      <th>Parch</th>\n",
              "      <th>Ticket</th>\n",
              "      <th>Fare</th>\n",
              "      <th>Cabin</th>\n",
              "      <th>Embarked</th>\n",
              "      <th>Age_Bins</th>\n",
              "      <th>New_Age</th>\n",
              "    </tr>\n",
              "  </thead>\n",
              "  <tbody>\n",
              "    <tr>\n",
              "      <th>1</th>\n",
              "      <td>2</td>\n",
              "      <td>1</td>\n",
              "      <td>1</td>\n",
              "      <td>Cumings, Mrs. John Bradley (Florence Briggs Th...</td>\n",
              "      <td>female</td>\n",
              "      <td>38.0</td>\n",
              "      <td>1</td>\n",
              "      <td>0</td>\n",
              "      <td>PC 17599</td>\n",
              "      <td>71.2833</td>\n",
              "      <td>C85</td>\n",
              "      <td>C</td>\n",
              "      <td>2</td>\n",
              "      <td>36.0</td>\n",
              "    </tr>\n",
              "    <tr>\n",
              "      <th>3</th>\n",
              "      <td>4</td>\n",
              "      <td>1</td>\n",
              "      <td>1</td>\n",
              "      <td>Futrelle, Mrs. Jacques Heath (Lily May Peel)</td>\n",
              "      <td>female</td>\n",
              "      <td>35.0</td>\n",
              "      <td>1</td>\n",
              "      <td>0</td>\n",
              "      <td>113803</td>\n",
              "      <td>53.1000</td>\n",
              "      <td>C123</td>\n",
              "      <td>S</td>\n",
              "      <td>2</td>\n",
              "      <td>36.0</td>\n",
              "    </tr>\n",
              "    <tr>\n",
              "      <th>6</th>\n",
              "      <td>7</td>\n",
              "      <td>0</td>\n",
              "      <td>1</td>\n",
              "      <td>McCarthy, Mr. Timothy J</td>\n",
              "      <td>male</td>\n",
              "      <td>54.0</td>\n",
              "      <td>0</td>\n",
              "      <td>0</td>\n",
              "      <td>17463</td>\n",
              "      <td>51.8625</td>\n",
              "      <td>E46</td>\n",
              "      <td>S</td>\n",
              "      <td>3</td>\n",
              "      <td>54.0</td>\n",
              "    </tr>\n",
              "    <tr>\n",
              "      <th>9</th>\n",
              "      <td>10</td>\n",
              "      <td>1</td>\n",
              "      <td>2</td>\n",
              "      <td>Nasser, Mrs. Nicholas (Adele Achem)</td>\n",
              "      <td>female</td>\n",
              "      <td>14.0</td>\n",
              "      <td>1</td>\n",
              "      <td>0</td>\n",
              "      <td>237736</td>\n",
              "      <td>30.0708</td>\n",
              "      <td>Unknown</td>\n",
              "      <td>C</td>\n",
              "      <td>0</td>\n",
              "      <td>4.0</td>\n",
              "    </tr>\n",
              "    <tr>\n",
              "      <th>11</th>\n",
              "      <td>12</td>\n",
              "      <td>1</td>\n",
              "      <td>1</td>\n",
              "      <td>Bonnell, Miss. Elizabeth</td>\n",
              "      <td>female</td>\n",
              "      <td>58.0</td>\n",
              "      <td>0</td>\n",
              "      <td>0</td>\n",
              "      <td>113783</td>\n",
              "      <td>26.5500</td>\n",
              "      <td>C103</td>\n",
              "      <td>S</td>\n",
              "      <td>3</td>\n",
              "      <td>54.0</td>\n",
              "    </tr>\n",
              "    <tr>\n",
              "      <th>...</th>\n",
              "      <td>...</td>\n",
              "      <td>...</td>\n",
              "      <td>...</td>\n",
              "      <td>...</td>\n",
              "      <td>...</td>\n",
              "      <td>...</td>\n",
              "      <td>...</td>\n",
              "      <td>...</td>\n",
              "      <td>...</td>\n",
              "      <td>...</td>\n",
              "      <td>...</td>\n",
              "      <td>...</td>\n",
              "      <td>...</td>\n",
              "      <td>...</td>\n",
              "    </tr>\n",
              "    <tr>\n",
              "      <th>880</th>\n",
              "      <td>881</td>\n",
              "      <td>1</td>\n",
              "      <td>2</td>\n",
              "      <td>Shelley, Mrs. William (Imanita Parrish Hall)</td>\n",
              "      <td>female</td>\n",
              "      <td>25.0</td>\n",
              "      <td>0</td>\n",
              "      <td>1</td>\n",
              "      <td>230433</td>\n",
              "      <td>26.0000</td>\n",
              "      <td>Unknown</td>\n",
              "      <td>S</td>\n",
              "      <td>1</td>\n",
              "      <td>25.0</td>\n",
              "    </tr>\n",
              "    <tr>\n",
              "      <th>883</th>\n",
              "      <td>884</td>\n",
              "      <td>0</td>\n",
              "      <td>2</td>\n",
              "      <td>Banfield, Mr. Frederick James</td>\n",
              "      <td>male</td>\n",
              "      <td>28.0</td>\n",
              "      <td>0</td>\n",
              "      <td>0</td>\n",
              "      <td>C.A./SOTON 34068</td>\n",
              "      <td>10.5000</td>\n",
              "      <td>Unknown</td>\n",
              "      <td>S</td>\n",
              "      <td>1</td>\n",
              "      <td>25.0</td>\n",
              "    </tr>\n",
              "    <tr>\n",
              "      <th>886</th>\n",
              "      <td>887</td>\n",
              "      <td>0</td>\n",
              "      <td>2</td>\n",
              "      <td>Montvila, Rev. Juozas</td>\n",
              "      <td>male</td>\n",
              "      <td>27.0</td>\n",
              "      <td>0</td>\n",
              "      <td>0</td>\n",
              "      <td>211536</td>\n",
              "      <td>13.0000</td>\n",
              "      <td>Unknown</td>\n",
              "      <td>S</td>\n",
              "      <td>1</td>\n",
              "      <td>25.0</td>\n",
              "    </tr>\n",
              "    <tr>\n",
              "      <th>887</th>\n",
              "      <td>888</td>\n",
              "      <td>1</td>\n",
              "      <td>1</td>\n",
              "      <td>Graham, Miss. Margaret Edith</td>\n",
              "      <td>female</td>\n",
              "      <td>19.0</td>\n",
              "      <td>0</td>\n",
              "      <td>0</td>\n",
              "      <td>112053</td>\n",
              "      <td>30.0000</td>\n",
              "      <td>B42</td>\n",
              "      <td>S</td>\n",
              "      <td>1</td>\n",
              "      <td>25.0</td>\n",
              "    </tr>\n",
              "    <tr>\n",
              "      <th>889</th>\n",
              "      <td>890</td>\n",
              "      <td>1</td>\n",
              "      <td>1</td>\n",
              "      <td>Behr, Mr. Karl Howell</td>\n",
              "      <td>male</td>\n",
              "      <td>26.0</td>\n",
              "      <td>0</td>\n",
              "      <td>0</td>\n",
              "      <td>111369</td>\n",
              "      <td>30.0000</td>\n",
              "      <td>C148</td>\n",
              "      <td>C</td>\n",
              "      <td>1</td>\n",
              "      <td>25.0</td>\n",
              "    </tr>\n",
              "  </tbody>\n",
              "</table>\n",
              "<p>378 rows × 14 columns</p>\n",
              "</div>"
            ],
            "text/plain": [
              "     PassengerId  Survived  Pclass  \\\n",
              "1              2         1       1   \n",
              "3              4         1       1   \n",
              "6              7         0       1   \n",
              "9             10         1       2   \n",
              "11            12         1       1   \n",
              "..           ...       ...     ...   \n",
              "880          881         1       2   \n",
              "883          884         0       2   \n",
              "886          887         0       2   \n",
              "887          888         1       1   \n",
              "889          890         1       1   \n",
              "\n",
              "                                                  Name     Sex   Age  SibSp  \\\n",
              "1    Cumings, Mrs. John Bradley (Florence Briggs Th...  female  38.0      1   \n",
              "3         Futrelle, Mrs. Jacques Heath (Lily May Peel)  female  35.0      1   \n",
              "6                              McCarthy, Mr. Timothy J    male  54.0      0   \n",
              "9                  Nasser, Mrs. Nicholas (Adele Achem)  female  14.0      1   \n",
              "11                            Bonnell, Miss. Elizabeth  female  58.0      0   \n",
              "..                                                 ...     ...   ...    ...   \n",
              "880       Shelley, Mrs. William (Imanita Parrish Hall)  female  25.0      0   \n",
              "883                      Banfield, Mr. Frederick James    male  28.0      0   \n",
              "886                              Montvila, Rev. Juozas    male  27.0      0   \n",
              "887                       Graham, Miss. Margaret Edith  female  19.0      0   \n",
              "889                              Behr, Mr. Karl Howell    male  26.0      0   \n",
              "\n",
              "     Parch            Ticket     Fare    Cabin Embarked  Age_Bins  New_Age  \n",
              "1        0          PC 17599  71.2833      C85        C         2     36.0  \n",
              "3        0            113803  53.1000     C123        S         2     36.0  \n",
              "6        0             17463  51.8625      E46        S         3     54.0  \n",
              "9        0            237736  30.0708  Unknown        C         0      4.0  \n",
              "11       0            113783  26.5500     C103        S         3     54.0  \n",
              "..     ...               ...      ...      ...      ...       ...      ...  \n",
              "880      1            230433  26.0000  Unknown        S         1     25.0  \n",
              "883      0  C.A./SOTON 34068  10.5000  Unknown        S         1     25.0  \n",
              "886      0            211536  13.0000  Unknown        S         1     25.0  \n",
              "887      0            112053  30.0000      B42        S         1     25.0  \n",
              "889      0            111369  30.0000     C148        C         1     25.0  \n",
              "\n",
              "[378 rows x 14 columns]"
            ]
          },
          "execution_count": 91,
          "metadata": {},
          "output_type": "execute_result"
        }
      ],
      "source": [
        "cleaned_dataset"
      ]
    },
    {
      "cell_type": "markdown",
      "metadata": {
        "id": "oMEM6IdylV8t"
      },
      "source": [
        "####**Remove Duplicates:**\n",
        "\n",
        "Remove duplicate records from data set to ensure data integrity."
      ]
    },
    {
      "cell_type": "code",
      "execution_count": null,
      "metadata": {
        "id": "AKmgo87TlZAR",
        "outputId": "aa558175-c17d-40d4-a8c9-424b261326dc"
      },
      "outputs": [
        {
          "data": {
            "text/plain": [
              "1      False\n",
              "3      False\n",
              "6      False\n",
              "9      False\n",
              "11     False\n",
              "       ...  \n",
              "880    False\n",
              "883    False\n",
              "886    False\n",
              "887    False\n",
              "889    False\n",
              "Length: 378, dtype: bool"
            ]
          },
          "execution_count": 92,
          "metadata": {},
          "output_type": "execute_result"
        }
      ],
      "source": [
        "cleaned_dataset.duplicated()"
      ]
    },
    {
      "cell_type": "code",
      "execution_count": null,
      "metadata": {
        "id": "9PEISfG3RHUc"
      },
      "outputs": [],
      "source": [
        "cleaned_dataset = cleaned_dataset.drop_duplicates()"
      ]
    },
    {
      "cell_type": "code",
      "execution_count": null,
      "metadata": {
        "id": "j0dP9n__RHUd",
        "outputId": "1529445f-e23f-4d1d-91c5-a169b69a26be"
      },
      "outputs": [
        {
          "data": {
            "text/html": [
              "<div>\n",
              "<style scoped>\n",
              "    .dataframe tbody tr th:only-of-type {\n",
              "        vertical-align: middle;\n",
              "    }\n",
              "\n",
              "    .dataframe tbody tr th {\n",
              "        vertical-align: top;\n",
              "    }\n",
              "\n",
              "    .dataframe thead th {\n",
              "        text-align: right;\n",
              "    }\n",
              "</style>\n",
              "<table border=\"1\" class=\"dataframe\">\n",
              "  <thead>\n",
              "    <tr style=\"text-align: right;\">\n",
              "      <th></th>\n",
              "      <th>PassengerId</th>\n",
              "      <th>Survived</th>\n",
              "      <th>Pclass</th>\n",
              "      <th>Name</th>\n",
              "      <th>Sex</th>\n",
              "      <th>Age</th>\n",
              "      <th>SibSp</th>\n",
              "      <th>Parch</th>\n",
              "      <th>Ticket</th>\n",
              "      <th>Fare</th>\n",
              "      <th>Cabin</th>\n",
              "      <th>Embarked</th>\n",
              "      <th>Age_Bins</th>\n",
              "      <th>New_Age</th>\n",
              "    </tr>\n",
              "  </thead>\n",
              "  <tbody>\n",
              "    <tr>\n",
              "      <th>1</th>\n",
              "      <td>2</td>\n",
              "      <td>1</td>\n",
              "      <td>1</td>\n",
              "      <td>Cumings, Mrs. John Bradley (Florence Briggs Th...</td>\n",
              "      <td>female</td>\n",
              "      <td>38.0</td>\n",
              "      <td>1</td>\n",
              "      <td>0</td>\n",
              "      <td>PC 17599</td>\n",
              "      <td>71.2833</td>\n",
              "      <td>C85</td>\n",
              "      <td>C</td>\n",
              "      <td>2</td>\n",
              "      <td>36.0</td>\n",
              "    </tr>\n",
              "    <tr>\n",
              "      <th>3</th>\n",
              "      <td>4</td>\n",
              "      <td>1</td>\n",
              "      <td>1</td>\n",
              "      <td>Futrelle, Mrs. Jacques Heath (Lily May Peel)</td>\n",
              "      <td>female</td>\n",
              "      <td>35.0</td>\n",
              "      <td>1</td>\n",
              "      <td>0</td>\n",
              "      <td>113803</td>\n",
              "      <td>53.1000</td>\n",
              "      <td>C123</td>\n",
              "      <td>S</td>\n",
              "      <td>2</td>\n",
              "      <td>36.0</td>\n",
              "    </tr>\n",
              "    <tr>\n",
              "      <th>6</th>\n",
              "      <td>7</td>\n",
              "      <td>0</td>\n",
              "      <td>1</td>\n",
              "      <td>McCarthy, Mr. Timothy J</td>\n",
              "      <td>male</td>\n",
              "      <td>54.0</td>\n",
              "      <td>0</td>\n",
              "      <td>0</td>\n",
              "      <td>17463</td>\n",
              "      <td>51.8625</td>\n",
              "      <td>E46</td>\n",
              "      <td>S</td>\n",
              "      <td>3</td>\n",
              "      <td>54.0</td>\n",
              "    </tr>\n",
              "    <tr>\n",
              "      <th>9</th>\n",
              "      <td>10</td>\n",
              "      <td>1</td>\n",
              "      <td>2</td>\n",
              "      <td>Nasser, Mrs. Nicholas (Adele Achem)</td>\n",
              "      <td>female</td>\n",
              "      <td>14.0</td>\n",
              "      <td>1</td>\n",
              "      <td>0</td>\n",
              "      <td>237736</td>\n",
              "      <td>30.0708</td>\n",
              "      <td>Unknown</td>\n",
              "      <td>C</td>\n",
              "      <td>0</td>\n",
              "      <td>4.0</td>\n",
              "    </tr>\n",
              "    <tr>\n",
              "      <th>11</th>\n",
              "      <td>12</td>\n",
              "      <td>1</td>\n",
              "      <td>1</td>\n",
              "      <td>Bonnell, Miss. Elizabeth</td>\n",
              "      <td>female</td>\n",
              "      <td>58.0</td>\n",
              "      <td>0</td>\n",
              "      <td>0</td>\n",
              "      <td>113783</td>\n",
              "      <td>26.5500</td>\n",
              "      <td>C103</td>\n",
              "      <td>S</td>\n",
              "      <td>3</td>\n",
              "      <td>54.0</td>\n",
              "    </tr>\n",
              "    <tr>\n",
              "      <th>...</th>\n",
              "      <td>...</td>\n",
              "      <td>...</td>\n",
              "      <td>...</td>\n",
              "      <td>...</td>\n",
              "      <td>...</td>\n",
              "      <td>...</td>\n",
              "      <td>...</td>\n",
              "      <td>...</td>\n",
              "      <td>...</td>\n",
              "      <td>...</td>\n",
              "      <td>...</td>\n",
              "      <td>...</td>\n",
              "      <td>...</td>\n",
              "      <td>...</td>\n",
              "    </tr>\n",
              "    <tr>\n",
              "      <th>880</th>\n",
              "      <td>881</td>\n",
              "      <td>1</td>\n",
              "      <td>2</td>\n",
              "      <td>Shelley, Mrs. William (Imanita Parrish Hall)</td>\n",
              "      <td>female</td>\n",
              "      <td>25.0</td>\n",
              "      <td>0</td>\n",
              "      <td>1</td>\n",
              "      <td>230433</td>\n",
              "      <td>26.0000</td>\n",
              "      <td>Unknown</td>\n",
              "      <td>S</td>\n",
              "      <td>1</td>\n",
              "      <td>25.0</td>\n",
              "    </tr>\n",
              "    <tr>\n",
              "      <th>883</th>\n",
              "      <td>884</td>\n",
              "      <td>0</td>\n",
              "      <td>2</td>\n",
              "      <td>Banfield, Mr. Frederick James</td>\n",
              "      <td>male</td>\n",
              "      <td>28.0</td>\n",
              "      <td>0</td>\n",
              "      <td>0</td>\n",
              "      <td>C.A./SOTON 34068</td>\n",
              "      <td>10.5000</td>\n",
              "      <td>Unknown</td>\n",
              "      <td>S</td>\n",
              "      <td>1</td>\n",
              "      <td>25.0</td>\n",
              "    </tr>\n",
              "    <tr>\n",
              "      <th>886</th>\n",
              "      <td>887</td>\n",
              "      <td>0</td>\n",
              "      <td>2</td>\n",
              "      <td>Montvila, Rev. Juozas</td>\n",
              "      <td>male</td>\n",
              "      <td>27.0</td>\n",
              "      <td>0</td>\n",
              "      <td>0</td>\n",
              "      <td>211536</td>\n",
              "      <td>13.0000</td>\n",
              "      <td>Unknown</td>\n",
              "      <td>S</td>\n",
              "      <td>1</td>\n",
              "      <td>25.0</td>\n",
              "    </tr>\n",
              "    <tr>\n",
              "      <th>887</th>\n",
              "      <td>888</td>\n",
              "      <td>1</td>\n",
              "      <td>1</td>\n",
              "      <td>Graham, Miss. Margaret Edith</td>\n",
              "      <td>female</td>\n",
              "      <td>19.0</td>\n",
              "      <td>0</td>\n",
              "      <td>0</td>\n",
              "      <td>112053</td>\n",
              "      <td>30.0000</td>\n",
              "      <td>B42</td>\n",
              "      <td>S</td>\n",
              "      <td>1</td>\n",
              "      <td>25.0</td>\n",
              "    </tr>\n",
              "    <tr>\n",
              "      <th>889</th>\n",
              "      <td>890</td>\n",
              "      <td>1</td>\n",
              "      <td>1</td>\n",
              "      <td>Behr, Mr. Karl Howell</td>\n",
              "      <td>male</td>\n",
              "      <td>26.0</td>\n",
              "      <td>0</td>\n",
              "      <td>0</td>\n",
              "      <td>111369</td>\n",
              "      <td>30.0000</td>\n",
              "      <td>C148</td>\n",
              "      <td>C</td>\n",
              "      <td>1</td>\n",
              "      <td>25.0</td>\n",
              "    </tr>\n",
              "  </tbody>\n",
              "</table>\n",
              "<p>378 rows × 14 columns</p>\n",
              "</div>"
            ],
            "text/plain": [
              "     PassengerId  Survived  Pclass  \\\n",
              "1              2         1       1   \n",
              "3              4         1       1   \n",
              "6              7         0       1   \n",
              "9             10         1       2   \n",
              "11            12         1       1   \n",
              "..           ...       ...     ...   \n",
              "880          881         1       2   \n",
              "883          884         0       2   \n",
              "886          887         0       2   \n",
              "887          888         1       1   \n",
              "889          890         1       1   \n",
              "\n",
              "                                                  Name     Sex   Age  SibSp  \\\n",
              "1    Cumings, Mrs. John Bradley (Florence Briggs Th...  female  38.0      1   \n",
              "3         Futrelle, Mrs. Jacques Heath (Lily May Peel)  female  35.0      1   \n",
              "6                              McCarthy, Mr. Timothy J    male  54.0      0   \n",
              "9                  Nasser, Mrs. Nicholas (Adele Achem)  female  14.0      1   \n",
              "11                            Bonnell, Miss. Elizabeth  female  58.0      0   \n",
              "..                                                 ...     ...   ...    ...   \n",
              "880       Shelley, Mrs. William (Imanita Parrish Hall)  female  25.0      0   \n",
              "883                      Banfield, Mr. Frederick James    male  28.0      0   \n",
              "886                              Montvila, Rev. Juozas    male  27.0      0   \n",
              "887                       Graham, Miss. Margaret Edith  female  19.0      0   \n",
              "889                              Behr, Mr. Karl Howell    male  26.0      0   \n",
              "\n",
              "     Parch            Ticket     Fare    Cabin Embarked  Age_Bins  New_Age  \n",
              "1        0          PC 17599  71.2833      C85        C         2     36.0  \n",
              "3        0            113803  53.1000     C123        S         2     36.0  \n",
              "6        0             17463  51.8625      E46        S         3     54.0  \n",
              "9        0            237736  30.0708  Unknown        C         0      4.0  \n",
              "11       0            113783  26.5500     C103        S         3     54.0  \n",
              "..     ...               ...      ...      ...      ...       ...      ...  \n",
              "880      1            230433  26.0000  Unknown        S         1     25.0  \n",
              "883      0  C.A./SOTON 34068  10.5000  Unknown        S         1     25.0  \n",
              "886      0            211536  13.0000  Unknown        S         1     25.0  \n",
              "887      0            112053  30.0000      B42        S         1     25.0  \n",
              "889      0            111369  30.0000     C148        C         1     25.0  \n",
              "\n",
              "[378 rows x 14 columns]"
            ]
          },
          "execution_count": 94,
          "metadata": {},
          "output_type": "execute_result"
        }
      ],
      "source": [
        "cleaned_dataset"
      ]
    },
    {
      "cell_type": "markdown",
      "metadata": {
        "id": "AMhDtaaApGs-"
      },
      "source": [
        "###**Data Transformation:**\n",
        "\n",
        "Data transformation is the process of organizing raw data into a format that is suitable for analysis or further processing."
      ]
    },
    {
      "cell_type": "markdown",
      "metadata": {
        "id": "cwM-n0zsq0VL"
      },
      "source": [
        "**1.** **Data Normalization:** Check the distribution of the **Age** column using a histogram. After analyzing the distribution of the column, normalize the **Age** column using Min-Max scaling or Standardization. Justify your choice."
      ]
    },
    {
      "cell_type": "code",
      "execution_count": null,
      "metadata": {
        "id": "nAcuB3ZNtKGE",
        "outputId": "2844950d-501b-4668-a996-8f2dcce8a7f5"
      },
      "outputs": [
        {
          "data": {
            "image/png": "[encoded data removed]",
            "text/plain": [
              "<Figure size 800x500 with 1 Axes>"
            ]
          },
          "metadata": {},
          "output_type": "display_data"
        }
      ],
      "source": [
        "plt.figure(figsize=(8, 5))\n",
        "sb.histplot(cleaned_dataset['Age'], bins=30, kde=True, color='red')\n",
        "plt.xlabel('Age')\n",
        "plt.ylabel('Frequency')\n",
        "plt.title('Age Distribution')\n",
        "plt.show()"
      ]
    },
    {
      "cell_type": "markdown",
      "metadata": {
        "id": "Uk5gRL5CRHUe"
      },
      "source": [
        "Observations:  \n",
        "- The **Age distribution is not perfectly normal**; it is slightly skewed.  \n",
        "\n",
        "## Why Min-Max Scaling?  \n",
        "**Preserves original distribution:** Min-Max scaling **retains the shape** of the data, ensuring that relative age differences remain meaningful.  \n",
        "**Bounded range (0 to 1):** Since Age has a defined minimum and maximum, Min-Max scaling **fits well without distorting the scale**.  \n",
        "Standardization (Z-score normalization) is best when data is **normally distributed**, which is **not the case here**.  "
      ]
    },
    {
      "cell_type": "code",
      "execution_count": null,
      "metadata": {
        "id": "ConIPRfQRHUe",
        "outputId": "8c448171-3f1c-453f-f0c8-3bcad99c0e0e"
      },
      "outputs": [
        {
          "data": {
            "text/html": [
              "<div>\n",
              "<style scoped>\n",
              "    .dataframe tbody tr th:only-of-type {\n",
              "        vertical-align: middle;\n",
              "    }\n",
              "\n",
              "    .dataframe tbody tr th {\n",
              "        vertical-align: top;\n",
              "    }\n",
              "\n",
              "    .dataframe thead th {\n",
              "        text-align: right;\n",
              "    }\n",
              "</style>\n",
              "<table border=\"1\" class=\"dataframe\">\n",
              "  <thead>\n",
              "    <tr style=\"text-align: right;\">\n",
              "      <th></th>\n",
              "      <th>PassengerId</th>\n",
              "      <th>Survived</th>\n",
              "      <th>Pclass</th>\n",
              "      <th>Name</th>\n",
              "      <th>Sex</th>\n",
              "      <th>Age</th>\n",
              "      <th>SibSp</th>\n",
              "      <th>Parch</th>\n",
              "      <th>Ticket</th>\n",
              "      <th>Fare</th>\n",
              "      <th>Cabin</th>\n",
              "      <th>Embarked</th>\n",
              "      <th>Age_Bins</th>\n",
              "      <th>New_Age</th>\n",
              "      <th>Scaled_Age</th>\n",
              "    </tr>\n",
              "  </thead>\n",
              "  <tbody>\n",
              "    <tr>\n",
              "      <th>1</th>\n",
              "      <td>2</td>\n",
              "      <td>1</td>\n",
              "      <td>1</td>\n",
              "      <td>Cumings, Mrs. John Bradley (Florence Briggs Th...</td>\n",
              "      <td>female</td>\n",
              "      <td>38.0</td>\n",
              "      <td>1</td>\n",
              "      <td>0</td>\n",
              "      <td>PC 17599</td>\n",
              "      <td>71.2833</td>\n",
              "      <td>C85</td>\n",
              "      <td>C</td>\n",
              "      <td>2</td>\n",
              "      <td>36.0</td>\n",
              "      <td>0.470566</td>\n",
              "    </tr>\n",
              "    <tr>\n",
              "      <th>3</th>\n",
              "      <td>4</td>\n",
              "      <td>1</td>\n",
              "      <td>1</td>\n",
              "      <td>Futrelle, Mrs. Jacques Heath (Lily May Peel)</td>\n",
              "      <td>female</td>\n",
              "      <td>35.0</td>\n",
              "      <td>1</td>\n",
              "      <td>0</td>\n",
              "      <td>113803</td>\n",
              "      <td>53.1000</td>\n",
              "      <td>C123</td>\n",
              "      <td>S</td>\n",
              "      <td>2</td>\n",
              "      <td>36.0</td>\n",
              "      <td>0.432749</td>\n",
              "    </tr>\n",
              "    <tr>\n",
              "      <th>6</th>\n",
              "      <td>7</td>\n",
              "      <td>0</td>\n",
              "      <td>1</td>\n",
              "      <td>McCarthy, Mr. Timothy J</td>\n",
              "      <td>male</td>\n",
              "      <td>54.0</td>\n",
              "      <td>0</td>\n",
              "      <td>0</td>\n",
              "      <td>17463</td>\n",
              "      <td>51.8625</td>\n",
              "      <td>E46</td>\n",
              "      <td>S</td>\n",
              "      <td>3</td>\n",
              "      <td>54.0</td>\n",
              "      <td>0.672255</td>\n",
              "    </tr>\n",
              "    <tr>\n",
              "      <th>9</th>\n",
              "      <td>10</td>\n",
              "      <td>1</td>\n",
              "      <td>2</td>\n",
              "      <td>Nasser, Mrs. Nicholas (Adele Achem)</td>\n",
              "      <td>female</td>\n",
              "      <td>14.0</td>\n",
              "      <td>1</td>\n",
              "      <td>0</td>\n",
              "      <td>237736</td>\n",
              "      <td>30.0708</td>\n",
              "      <td>Unknown</td>\n",
              "      <td>C</td>\n",
              "      <td>0</td>\n",
              "      <td>4.0</td>\n",
              "      <td>0.168032</td>\n",
              "    </tr>\n",
              "    <tr>\n",
              "      <th>11</th>\n",
              "      <td>12</td>\n",
              "      <td>1</td>\n",
              "      <td>1</td>\n",
              "      <td>Bonnell, Miss. Elizabeth</td>\n",
              "      <td>female</td>\n",
              "      <td>58.0</td>\n",
              "      <td>0</td>\n",
              "      <td>0</td>\n",
              "      <td>113783</td>\n",
              "      <td>26.5500</td>\n",
              "      <td>C103</td>\n",
              "      <td>S</td>\n",
              "      <td>3</td>\n",
              "      <td>54.0</td>\n",
              "      <td>0.722677</td>\n",
              "    </tr>\n",
              "    <tr>\n",
              "      <th>...</th>\n",
              "      <td>...</td>\n",
              "      <td>...</td>\n",
              "      <td>...</td>\n",
              "      <td>...</td>\n",
              "      <td>...</td>\n",
              "      <td>...</td>\n",
              "      <td>...</td>\n",
              "      <td>...</td>\n",
              "      <td>...</td>\n",
              "      <td>...</td>\n",
              "      <td>...</td>\n",
              "      <td>...</td>\n",
              "      <td>...</td>\n",
              "      <td>...</td>\n",
              "      <td>...</td>\n",
              "    </tr>\n",
              "    <tr>\n",
              "      <th>880</th>\n",
              "      <td>881</td>\n",
              "      <td>1</td>\n",
              "      <td>2</td>\n",
              "      <td>Shelley, Mrs. William (Imanita Parrish Hall)</td>\n",
              "      <td>female</td>\n",
              "      <td>25.0</td>\n",
              "      <td>0</td>\n",
              "      <td>1</td>\n",
              "      <td>230433</td>\n",
              "      <td>26.0000</td>\n",
              "      <td>Unknown</td>\n",
              "      <td>S</td>\n",
              "      <td>1</td>\n",
              "      <td>25.0</td>\n",
              "      <td>0.306694</td>\n",
              "    </tr>\n",
              "    <tr>\n",
              "      <th>883</th>\n",
              "      <td>884</td>\n",
              "      <td>0</td>\n",
              "      <td>2</td>\n",
              "      <td>Banfield, Mr. Frederick James</td>\n",
              "      <td>male</td>\n",
              "      <td>28.0</td>\n",
              "      <td>0</td>\n",
              "      <td>0</td>\n",
              "      <td>C.A./SOTON 34068</td>\n",
              "      <td>10.5000</td>\n",
              "      <td>Unknown</td>\n",
              "      <td>S</td>\n",
              "      <td>1</td>\n",
              "      <td>25.0</td>\n",
              "      <td>0.344510</td>\n",
              "    </tr>\n",
              "    <tr>\n",
              "      <th>886</th>\n",
              "      <td>887</td>\n",
              "      <td>0</td>\n",
              "      <td>2</td>\n",
              "      <td>Montvila, Rev. Juozas</td>\n",
              "      <td>male</td>\n",
              "      <td>27.0</td>\n",
              "      <td>0</td>\n",
              "      <td>0</td>\n",
              "      <td>211536</td>\n",
              "      <td>13.0000</td>\n",
              "      <td>Unknown</td>\n",
              "      <td>S</td>\n",
              "      <td>1</td>\n",
              "      <td>25.0</td>\n",
              "      <td>0.331905</td>\n",
              "    </tr>\n",
              "    <tr>\n",
              "      <th>887</th>\n",
              "      <td>888</td>\n",
              "      <td>1</td>\n",
              "      <td>1</td>\n",
              "      <td>Graham, Miss. Margaret Edith</td>\n",
              "      <td>female</td>\n",
              "      <td>19.0</td>\n",
              "      <td>0</td>\n",
              "      <td>0</td>\n",
              "      <td>112053</td>\n",
              "      <td>30.0000</td>\n",
              "      <td>B42</td>\n",
              "      <td>S</td>\n",
              "      <td>1</td>\n",
              "      <td>25.0</td>\n",
              "      <td>0.231060</td>\n",
              "    </tr>\n",
              "    <tr>\n",
              "      <th>889</th>\n",
              "      <td>890</td>\n",
              "      <td>1</td>\n",
              "      <td>1</td>\n",
              "      <td>Behr, Mr. Karl Howell</td>\n",
              "      <td>male</td>\n",
              "      <td>26.0</td>\n",
              "      <td>0</td>\n",
              "      <td>0</td>\n",
              "      <td>111369</td>\n",
              "      <td>30.0000</td>\n",
              "      <td>C148</td>\n",
              "      <td>C</td>\n",
              "      <td>1</td>\n",
              "      <td>25.0</td>\n",
              "      <td>0.319299</td>\n",
              "    </tr>\n",
              "  </tbody>\n",
              "</table>\n",
              "<p>378 rows × 15 columns</p>\n",
              "</div>"
            ],
            "text/plain": [
              "     PassengerId  Survived  Pclass  \\\n",
              "1              2         1       1   \n",
              "3              4         1       1   \n",
              "6              7         0       1   \n",
              "9             10         1       2   \n",
              "11            12         1       1   \n",
              "..           ...       ...     ...   \n",
              "880          881         1       2   \n",
              "883          884         0       2   \n",
              "886          887         0       2   \n",
              "887          888         1       1   \n",
              "889          890         1       1   \n",
              "\n",
              "                                                  Name     Sex   Age  SibSp  \\\n",
              "1    Cumings, Mrs. John Bradley (Florence Briggs Th...  female  38.0      1   \n",
              "3         Futrelle, Mrs. Jacques Heath (Lily May Peel)  female  35.0      1   \n",
              "6                              McCarthy, Mr. Timothy J    male  54.0      0   \n",
              "9                  Nasser, Mrs. Nicholas (Adele Achem)  female  14.0      1   \n",
              "11                            Bonnell, Miss. Elizabeth  female  58.0      0   \n",
              "..                                                 ...     ...   ...    ...   \n",
              "880       Shelley, Mrs. William (Imanita Parrish Hall)  female  25.0      0   \n",
              "883                      Banfield, Mr. Frederick James    male  28.0      0   \n",
              "886                              Montvila, Rev. Juozas    male  27.0      0   \n",
              "887                       Graham, Miss. Margaret Edith  female  19.0      0   \n",
              "889                              Behr, Mr. Karl Howell    male  26.0      0   \n",
              "\n",
              "     Parch            Ticket     Fare    Cabin Embarked  Age_Bins  New_Age  \\\n",
              "1        0          PC 17599  71.2833      C85        C         2     36.0   \n",
              "3        0            113803  53.1000     C123        S         2     36.0   \n",
              "6        0             17463  51.8625      E46        S         3     54.0   \n",
              "9        0            237736  30.0708  Unknown        C         0      4.0   \n",
              "11       0            113783  26.5500     C103        S         3     54.0   \n",
              "..     ...               ...      ...      ...      ...       ...      ...   \n",
              "880      1            230433  26.0000  Unknown        S         1     25.0   \n",
              "883      0  C.A./SOTON 34068  10.5000  Unknown        S         1     25.0   \n",
              "886      0            211536  13.0000  Unknown        S         1     25.0   \n",
              "887      0            112053  30.0000      B42        S         1     25.0   \n",
              "889      0            111369  30.0000     C148        C         1     25.0   \n",
              "\n",
              "     Scaled_Age  \n",
              "1      0.470566  \n",
              "3      0.432749  \n",
              "6      0.672255  \n",
              "9      0.168032  \n",
              "11     0.722677  \n",
              "..          ...  \n",
              "880    0.306694  \n",
              "883    0.344510  \n",
              "886    0.331905  \n",
              "887    0.231060  \n",
              "889    0.319299  \n",
              "\n",
              "[378 rows x 15 columns]"
            ]
          },
          "execution_count": 96,
          "metadata": {},
          "output_type": "execute_result"
        }
      ],
      "source": [
        "from sklearn.preprocessing import MinMaxScaler\n",
        "\n",
        "transformer = MinMaxScaler()\n",
        "transformed_dataset=cleaned_dataset.copy()\n",
        "transformed_dataset['Scaled_Age'] = transformer.fit_transform(cleaned_dataset[['Age']])\n",
        "transformed_dataset"
      ]
    },
    {
      "cell_type": "markdown",
      "metadata": {
        "id": "Ye4fpvUps8FB"
      },
      "source": [
        "**2.** Rename the **Fare** column to **Fare (USD)**."
      ]
    },
    {
      "cell_type": "code",
      "execution_count": null,
      "metadata": {
        "id": "fHdZG5Obtk5w"
      },
      "outputs": [],
      "source": [
        "transformed_dataset.rename(columns={'Fare': 'Fare (USD)'}, inplace=True)"
      ]
    },
    {
      "cell_type": "code",
      "execution_count": null,
      "metadata": {
        "id": "hyULu_N9RHUf",
        "outputId": "57c48441-e773-4941-81ba-83529d43f47a"
      },
      "outputs": [
        {
          "data": {
            "text/html": [
              "<div>\n",
              "<style scoped>\n",
              "    .dataframe tbody tr th:only-of-type {\n",
              "        vertical-align: middle;\n",
              "    }\n",
              "\n",
              "    .dataframe tbody tr th {\n",
              "        vertical-align: top;\n",
              "    }\n",
              "\n",
              "    .dataframe thead th {\n",
              "        text-align: right;\n",
              "    }\n",
              "</style>\n",
              "<table border=\"1\" class=\"dataframe\">\n",
              "  <thead>\n",
              "    <tr style=\"text-align: right;\">\n",
              "      <th></th>\n",
              "      <th>PassengerId</th>\n",
              "      <th>Survived</th>\n",
              "      <th>Pclass</th>\n",
              "      <th>Name</th>\n",
              "      <th>Sex</th>\n",
              "      <th>Age</th>\n",
              "      <th>SibSp</th>\n",
              "      <th>Parch</th>\n",
              "      <th>Ticket</th>\n",
              "      <th>Fare (USD)</th>\n",
              "      <th>Cabin</th>\n",
              "      <th>Embarked</th>\n",
              "      <th>Age_Bins</th>\n",
              "      <th>New_Age</th>\n",
              "      <th>Scaled_Age</th>\n",
              "    </tr>\n",
              "  </thead>\n",
              "  <tbody>\n",
              "    <tr>\n",
              "      <th>1</th>\n",
              "      <td>2</td>\n",
              "      <td>1</td>\n",
              "      <td>1</td>\n",
              "      <td>Cumings, Mrs. John Bradley (Florence Briggs Th...</td>\n",
              "      <td>female</td>\n",
              "      <td>38.0</td>\n",
              "      <td>1</td>\n",
              "      <td>0</td>\n",
              "      <td>PC 17599</td>\n",
              "      <td>71.2833</td>\n",
              "      <td>C85</td>\n",
              "      <td>C</td>\n",
              "      <td>2</td>\n",
              "      <td>36.0</td>\n",
              "      <td>0.470566</td>\n",
              "    </tr>\n",
              "    <tr>\n",
              "      <th>3</th>\n",
              "      <td>4</td>\n",
              "      <td>1</td>\n",
              "      <td>1</td>\n",
              "      <td>Futrelle, Mrs. Jacques Heath (Lily May Peel)</td>\n",
              "      <td>female</td>\n",
              "      <td>35.0</td>\n",
              "      <td>1</td>\n",
              "      <td>0</td>\n",
              "      <td>113803</td>\n",
              "      <td>53.1000</td>\n",
              "      <td>C123</td>\n",
              "      <td>S</td>\n",
              "      <td>2</td>\n",
              "      <td>36.0</td>\n",
              "      <td>0.432749</td>\n",
              "    </tr>\n",
              "    <tr>\n",
              "      <th>6</th>\n",
              "      <td>7</td>\n",
              "      <td>0</td>\n",
              "      <td>1</td>\n",
              "      <td>McCarthy, Mr. Timothy J</td>\n",
              "      <td>male</td>\n",
              "      <td>54.0</td>\n",
              "      <td>0</td>\n",
              "      <td>0</td>\n",
              "      <td>17463</td>\n",
              "      <td>51.8625</td>\n",
              "      <td>E46</td>\n",
              "      <td>S</td>\n",
              "      <td>3</td>\n",
              "      <td>54.0</td>\n",
              "      <td>0.672255</td>\n",
              "    </tr>\n",
              "    <tr>\n",
              "      <th>9</th>\n",
              "      <td>10</td>\n",
              "      <td>1</td>\n",
              "      <td>2</td>\n",
              "      <td>Nasser, Mrs. Nicholas (Adele Achem)</td>\n",
              "      <td>female</td>\n",
              "      <td>14.0</td>\n",
              "      <td>1</td>\n",
              "      <td>0</td>\n",
              "      <td>237736</td>\n",
              "      <td>30.0708</td>\n",
              "      <td>Unknown</td>\n",
              "      <td>C</td>\n",
              "      <td>0</td>\n",
              "      <td>4.0</td>\n",
              "      <td>0.168032</td>\n",
              "    </tr>\n",
              "    <tr>\n",
              "      <th>11</th>\n",
              "      <td>12</td>\n",
              "      <td>1</td>\n",
              "      <td>1</td>\n",
              "      <td>Bonnell, Miss. Elizabeth</td>\n",
              "      <td>female</td>\n",
              "      <td>58.0</td>\n",
              "      <td>0</td>\n",
              "      <td>0</td>\n",
              "      <td>113783</td>\n",
              "      <td>26.5500</td>\n",
              "      <td>C103</td>\n",
              "      <td>S</td>\n",
              "      <td>3</td>\n",
              "      <td>54.0</td>\n",
              "      <td>0.722677</td>\n",
              "    </tr>\n",
              "    <tr>\n",
              "      <th>...</th>\n",
              "      <td>...</td>\n",
              "      <td>...</td>\n",
              "      <td>...</td>\n",
              "      <td>...</td>\n",
              "      <td>...</td>\n",
              "      <td>...</td>\n",
              "      <td>...</td>\n",
              "      <td>...</td>\n",
              "      <td>...</td>\n",
              "      <td>...</td>\n",
              "      <td>...</td>\n",
              "      <td>...</td>\n",
              "      <td>...</td>\n",
              "      <td>...</td>\n",
              "      <td>...</td>\n",
              "    </tr>\n",
              "    <tr>\n",
              "      <th>880</th>\n",
              "      <td>881</td>\n",
              "      <td>1</td>\n",
              "      <td>2</td>\n",
              "      <td>Shelley, Mrs. William (Imanita Parrish Hall)</td>\n",
              "      <td>female</td>\n",
              "      <td>25.0</td>\n",
              "      <td>0</td>\n",
              "      <td>1</td>\n",
              "      <td>230433</td>\n",
              "      <td>26.0000</td>\n",
              "      <td>Unknown</td>\n",
              "      <td>S</td>\n",
              "      <td>1</td>\n",
              "      <td>25.0</td>\n",
              "      <td>0.306694</td>\n",
              "    </tr>\n",
              "    <tr>\n",
              "      <th>883</th>\n",
              "      <td>884</td>\n",
              "      <td>0</td>\n",
              "      <td>2</td>\n",
              "      <td>Banfield, Mr. Frederick James</td>\n",
              "      <td>male</td>\n",
              "      <td>28.0</td>\n",
              "      <td>0</td>\n",
              "      <td>0</td>\n",
              "      <td>C.A./SOTON 34068</td>\n",
              "      <td>10.5000</td>\n",
              "      <td>Unknown</td>\n",
              "      <td>S</td>\n",
              "      <td>1</td>\n",
              "      <td>25.0</td>\n",
              "      <td>0.344510</td>\n",
              "    </tr>\n",
              "    <tr>\n",
              "      <th>886</th>\n",
              "      <td>887</td>\n",
              "      <td>0</td>\n",
              "      <td>2</td>\n",
              "      <td>Montvila, Rev. Juozas</td>\n",
              "      <td>male</td>\n",
              "      <td>27.0</td>\n",
              "      <td>0</td>\n",
              "      <td>0</td>\n",
              "      <td>211536</td>\n",
              "      <td>13.0000</td>\n",
              "      <td>Unknown</td>\n",
              "      <td>S</td>\n",
              "      <td>1</td>\n",
              "      <td>25.0</td>\n",
              "      <td>0.331905</td>\n",
              "    </tr>\n",
              "    <tr>\n",
              "      <th>887</th>\n",
              "      <td>888</td>\n",
              "      <td>1</td>\n",
              "      <td>1</td>\n",
              "      <td>Graham, Miss. Margaret Edith</td>\n",
              "      <td>female</td>\n",
              "      <td>19.0</td>\n",
              "      <td>0</td>\n",
              "      <td>0</td>\n",
              "      <td>112053</td>\n",
              "      <td>30.0000</td>\n",
              "      <td>B42</td>\n",
              "      <td>S</td>\n",
              "      <td>1</td>\n",
              "      <td>25.0</td>\n",
              "      <td>0.231060</td>\n",
              "    </tr>\n",
              "    <tr>\n",
              "      <th>889</th>\n",
              "      <td>890</td>\n",
              "      <td>1</td>\n",
              "      <td>1</td>\n",
              "      <td>Behr, Mr. Karl Howell</td>\n",
              "      <td>male</td>\n",
              "      <td>26.0</td>\n",
              "      <td>0</td>\n",
              "      <td>0</td>\n",
              "      <td>111369</td>\n",
              "      <td>30.0000</td>\n",
              "      <td>C148</td>\n",
              "      <td>C</td>\n",
              "      <td>1</td>\n",
              "      <td>25.0</td>\n",
              "      <td>0.319299</td>\n",
              "    </tr>\n",
              "  </tbody>\n",
              "</table>\n",
              "<p>378 rows × 15 columns</p>\n",
              "</div>"
            ],
            "text/plain": [
              "     PassengerId  Survived  Pclass  \\\n",
              "1              2         1       1   \n",
              "3              4         1       1   \n",
              "6              7         0       1   \n",
              "9             10         1       2   \n",
              "11            12         1       1   \n",
              "..           ...       ...     ...   \n",
              "880          881         1       2   \n",
              "883          884         0       2   \n",
              "886          887         0       2   \n",
              "887          888         1       1   \n",
              "889          890         1       1   \n",
              "\n",
              "                                                  Name     Sex   Age  SibSp  \\\n",
              "1    Cumings, Mrs. John Bradley (Florence Briggs Th...  female  38.0      1   \n",
              "3         Futrelle, Mrs. Jacques Heath (Lily May Peel)  female  35.0      1   \n",
              "6                              McCarthy, Mr. Timothy J    male  54.0      0   \n",
              "9                  Nasser, Mrs. Nicholas (Adele Achem)  female  14.0      1   \n",
              "11                            Bonnell, Miss. Elizabeth  female  58.0      0   \n",
              "..                                                 ...     ...   ...    ...   \n",
              "880       Shelley, Mrs. William (Imanita Parrish Hall)  female  25.0      0   \n",
              "883                      Banfield, Mr. Frederick James    male  28.0      0   \n",
              "886                              Montvila, Rev. Juozas    male  27.0      0   \n",
              "887                       Graham, Miss. Margaret Edith  female  19.0      0   \n",
              "889                              Behr, Mr. Karl Howell    male  26.0      0   \n",
              "\n",
              "     Parch            Ticket  Fare (USD)    Cabin Embarked  Age_Bins  New_Age  \\\n",
              "1        0          PC 17599     71.2833      C85        C         2     36.0   \n",
              "3        0            113803     53.1000     C123        S         2     36.0   \n",
              "6        0             17463     51.8625      E46        S         3     54.0   \n",
              "9        0            237736     30.0708  Unknown        C         0      4.0   \n",
              "11       0            113783     26.5500     C103        S         3     54.0   \n",
              "..     ...               ...         ...      ...      ...       ...      ...   \n",
              "880      1            230433     26.0000  Unknown        S         1     25.0   \n",
              "883      0  C.A./SOTON 34068     10.5000  Unknown        S         1     25.0   \n",
              "886      0            211536     13.0000  Unknown        S         1     25.0   \n",
              "887      0            112053     30.0000      B42        S         1     25.0   \n",
              "889      0            111369     30.0000     C148        C         1     25.0   \n",
              "\n",
              "     Scaled_Age  \n",
              "1      0.470566  \n",
              "3      0.432749  \n",
              "6      0.672255  \n",
              "9      0.168032  \n",
              "11     0.722677  \n",
              "..          ...  \n",
              "880    0.306694  \n",
              "883    0.344510  \n",
              "886    0.331905  \n",
              "887    0.231060  \n",
              "889    0.319299  \n",
              "\n",
              "[378 rows x 15 columns]"
            ]
          },
          "execution_count": 98,
          "metadata": {},
          "output_type": "execute_result"
        }
      ],
      "source": [
        "transformed_dataset"
      ]
    },
    {
      "cell_type": "markdown",
      "metadata": {
        "id": "b34SPCFRuVQi"
      },
      "source": [
        "**3.** **Data Encoding:** Apply label encoding or one-hot encoding on **Sex** column. Justify your selection."
      ]
    },
    {
      "cell_type": "markdown",
      "metadata": {
        "id": "uSpenYzKRHUg"
      },
      "source": [
        "## Why We Chose Label Encoding?  \n",
        "**Binary Categorical Variable:** Since Sex has only **two categories**, label encoding is **sufficient** and does not introduce unnecessary dimensions.\n",
        "**Efficiency:** Label encoding is **memory-efficient** and avoids creating extra columns, which is **ideal for small categorical features**.  \n",
        "**No Risk of Incorrect Ordering:** Label encoding works well for **binary categories** where no ordinal relationship exists. One-hot encoding is more useful for **multi-class categorical variables**, which is unnecessary here.  \n"
      ]
    },
    {
      "cell_type": "code",
      "execution_count": null,
      "metadata": {
        "id": "BRIQ6GFSuhpz"
      },
      "outputs": [],
      "source": [
        "from sklearn.preprocessing import LabelEncoder\n",
        "encoder = LabelEncoder()\n",
        "encoded_dataset=transformed_dataset.copy()\n",
        "encoded_dataset['Sex'] = encoder.fit_transform(encoded_dataset['Sex'])"
      ]
    },
    {
      "cell_type": "code",
      "execution_count": null,
      "metadata": {
        "id": "hyUPvFyaRHUg",
        "outputId": "3bda9b64-0cb8-4639-8308-c9d7ebb468f5"
      },
      "outputs": [
        {
          "data": {
            "text/html": [
              "<div>\n",
              "<style scoped>\n",
              "    .dataframe tbody tr th:only-of-type {\n",
              "        vertical-align: middle;\n",
              "    }\n",
              "\n",
              "    .dataframe tbody tr th {\n",
              "        vertical-align: top;\n",
              "    }\n",
              "\n",
              "    .dataframe thead th {\n",
              "        text-align: right;\n",
              "    }\n",
              "</style>\n",
              "<table border=\"1\" class=\"dataframe\">\n",
              "  <thead>\n",
              "    <tr style=\"text-align: right;\">\n",
              "      <th></th>\n",
              "      <th>PassengerId</th>\n",
              "      <th>Survived</th>\n",
              "      <th>Pclass</th>\n",
              "      <th>Name</th>\n",
              "      <th>Sex</th>\n",
              "      <th>Age</th>\n",
              "      <th>SibSp</th>\n",
              "      <th>Parch</th>\n",
              "      <th>Ticket</th>\n",
              "      <th>Fare (USD)</th>\n",
              "      <th>Cabin</th>\n",
              "      <th>Embarked</th>\n",
              "      <th>Age_Bins</th>\n",
              "      <th>New_Age</th>\n",
              "      <th>Scaled_Age</th>\n",
              "    </tr>\n",
              "  </thead>\n",
              "  <tbody>\n",
              "    <tr>\n",
              "      <th>1</th>\n",
              "      <td>2</td>\n",
              "      <td>1</td>\n",
              "      <td>1</td>\n",
              "      <td>Cumings, Mrs. John Bradley (Florence Briggs Th...</td>\n",
              "      <td>0</td>\n",
              "      <td>38.0</td>\n",
              "      <td>1</td>\n",
              "      <td>0</td>\n",
              "      <td>PC 17599</td>\n",
              "      <td>71.2833</td>\n",
              "      <td>C85</td>\n",
              "      <td>C</td>\n",
              "      <td>2</td>\n",
              "      <td>36.0</td>\n",
              "      <td>0.470566</td>\n",
              "    </tr>\n",
              "    <tr>\n",
              "      <th>3</th>\n",
              "      <td>4</td>\n",
              "      <td>1</td>\n",
              "      <td>1</td>\n",
              "      <td>Futrelle, Mrs. Jacques Heath (Lily May Peel)</td>\n",
              "      <td>0</td>\n",
              "      <td>35.0</td>\n",
              "      <td>1</td>\n",
              "      <td>0</td>\n",
              "      <td>113803</td>\n",
              "      <td>53.1000</td>\n",
              "      <td>C123</td>\n",
              "      <td>S</td>\n",
              "      <td>2</td>\n",
              "      <td>36.0</td>\n",
              "      <td>0.432749</td>\n",
              "    </tr>\n",
              "    <tr>\n",
              "      <th>6</th>\n",
              "      <td>7</td>\n",
              "      <td>0</td>\n",
              "      <td>1</td>\n",
              "      <td>McCarthy, Mr. Timothy J</td>\n",
              "      <td>1</td>\n",
              "      <td>54.0</td>\n",
              "      <td>0</td>\n",
              "      <td>0</td>\n",
              "      <td>17463</td>\n",
              "      <td>51.8625</td>\n",
              "      <td>E46</td>\n",
              "      <td>S</td>\n",
              "      <td>3</td>\n",
              "      <td>54.0</td>\n",
              "      <td>0.672255</td>\n",
              "    </tr>\n",
              "    <tr>\n",
              "      <th>9</th>\n",
              "      <td>10</td>\n",
              "      <td>1</td>\n",
              "      <td>2</td>\n",
              "      <td>Nasser, Mrs. Nicholas (Adele Achem)</td>\n",
              "      <td>0</td>\n",
              "      <td>14.0</td>\n",
              "      <td>1</td>\n",
              "      <td>0</td>\n",
              "      <td>237736</td>\n",
              "      <td>30.0708</td>\n",
              "      <td>Unknown</td>\n",
              "      <td>C</td>\n",
              "      <td>0</td>\n",
              "      <td>4.0</td>\n",
              "      <td>0.168032</td>\n",
              "    </tr>\n",
              "    <tr>\n",
              "      <th>11</th>\n",
              "      <td>12</td>\n",
              "      <td>1</td>\n",
              "      <td>1</td>\n",
              "      <td>Bonnell, Miss. Elizabeth</td>\n",
              "      <td>0</td>\n",
              "      <td>58.0</td>\n",
              "      <td>0</td>\n",
              "      <td>0</td>\n",
              "      <td>113783</td>\n",
              "      <td>26.5500</td>\n",
              "      <td>C103</td>\n",
              "      <td>S</td>\n",
              "      <td>3</td>\n",
              "      <td>54.0</td>\n",
              "      <td>0.722677</td>\n",
              "    </tr>\n",
              "    <tr>\n",
              "      <th>...</th>\n",
              "      <td>...</td>\n",
              "      <td>...</td>\n",
              "      <td>...</td>\n",
              "      <td>...</td>\n",
              "      <td>...</td>\n",
              "      <td>...</td>\n",
              "      <td>...</td>\n",
              "      <td>...</td>\n",
              "      <td>...</td>\n",
              "      <td>...</td>\n",
              "      <td>...</td>\n",
              "      <td>...</td>\n",
              "      <td>...</td>\n",
              "      <td>...</td>\n",
              "      <td>...</td>\n",
              "    </tr>\n",
              "    <tr>\n",
              "      <th>880</th>\n",
              "      <td>881</td>\n",
              "      <td>1</td>\n",
              "      <td>2</td>\n",
              "      <td>Shelley, Mrs. William (Imanita Parrish Hall)</td>\n",
              "      <td>0</td>\n",
              "      <td>25.0</td>\n",
              "      <td>0</td>\n",
              "      <td>1</td>\n",
              "      <td>230433</td>\n",
              "      <td>26.0000</td>\n",
              "      <td>Unknown</td>\n",
              "      <td>S</td>\n",
              "      <td>1</td>\n",
              "      <td>25.0</td>\n",
              "      <td>0.306694</td>\n",
              "    </tr>\n",
              "    <tr>\n",
              "      <th>883</th>\n",
              "      <td>884</td>\n",
              "      <td>0</td>\n",
              "      <td>2</td>\n",
              "      <td>Banfield, Mr. Frederick James</td>\n",
              "      <td>1</td>\n",
              "      <td>28.0</td>\n",
              "      <td>0</td>\n",
              "      <td>0</td>\n",
              "      <td>C.A./SOTON 34068</td>\n",
              "      <td>10.5000</td>\n",
              "      <td>Unknown</td>\n",
              "      <td>S</td>\n",
              "      <td>1</td>\n",
              "      <td>25.0</td>\n",
              "      <td>0.344510</td>\n",
              "    </tr>\n",
              "    <tr>\n",
              "      <th>886</th>\n",
              "      <td>887</td>\n",
              "      <td>0</td>\n",
              "      <td>2</td>\n",
              "      <td>Montvila, Rev. Juozas</td>\n",
              "      <td>1</td>\n",
              "      <td>27.0</td>\n",
              "      <td>0</td>\n",
              "      <td>0</td>\n",
              "      <td>211536</td>\n",
              "      <td>13.0000</td>\n",
              "      <td>Unknown</td>\n",
              "      <td>S</td>\n",
              "      <td>1</td>\n",
              "      <td>25.0</td>\n",
              "      <td>0.331905</td>\n",
              "    </tr>\n",
              "    <tr>\n",
              "      <th>887</th>\n",
              "      <td>888</td>\n",
              "      <td>1</td>\n",
              "      <td>1</td>\n",
              "      <td>Graham, Miss. Margaret Edith</td>\n",
              "      <td>0</td>\n",
              "      <td>19.0</td>\n",
              "      <td>0</td>\n",
              "      <td>0</td>\n",
              "      <td>112053</td>\n",
              "      <td>30.0000</td>\n",
              "      <td>B42</td>\n",
              "      <td>S</td>\n",
              "      <td>1</td>\n",
              "      <td>25.0</td>\n",
              "      <td>0.231060</td>\n",
              "    </tr>\n",
              "    <tr>\n",
              "      <th>889</th>\n",
              "      <td>890</td>\n",
              "      <td>1</td>\n",
              "      <td>1</td>\n",
              "      <td>Behr, Mr. Karl Howell</td>\n",
              "      <td>1</td>\n",
              "      <td>26.0</td>\n",
              "      <td>0</td>\n",
              "      <td>0</td>\n",
              "      <td>111369</td>\n",
              "      <td>30.0000</td>\n",
              "      <td>C148</td>\n",
              "      <td>C</td>\n",
              "      <td>1</td>\n",
              "      <td>25.0</td>\n",
              "      <td>0.319299</td>\n",
              "    </tr>\n",
              "  </tbody>\n",
              "</table>\n",
              "<p>378 rows × 15 columns</p>\n",
              "</div>"
            ],
            "text/plain": [
              "     PassengerId  Survived  Pclass  \\\n",
              "1              2         1       1   \n",
              "3              4         1       1   \n",
              "6              7         0       1   \n",
              "9             10         1       2   \n",
              "11            12         1       1   \n",
              "..           ...       ...     ...   \n",
              "880          881         1       2   \n",
              "883          884         0       2   \n",
              "886          887         0       2   \n",
              "887          888         1       1   \n",
              "889          890         1       1   \n",
              "\n",
              "                                                  Name  Sex   Age  SibSp  \\\n",
              "1    Cumings, Mrs. John Bradley (Florence Briggs Th...    0  38.0      1   \n",
              "3         Futrelle, Mrs. Jacques Heath (Lily May Peel)    0  35.0      1   \n",
              "6                              McCarthy, Mr. Timothy J    1  54.0      0   \n",
              "9                  Nasser, Mrs. Nicholas (Adele Achem)    0  14.0      1   \n",
              "11                            Bonnell, Miss. Elizabeth    0  58.0      0   \n",
              "..                                                 ...  ...   ...    ...   \n",
              "880       Shelley, Mrs. William (Imanita Parrish Hall)    0  25.0      0   \n",
              "883                      Banfield, Mr. Frederick James    1  28.0      0   \n",
              "886                              Montvila, Rev. Juozas    1  27.0      0   \n",
              "887                       Graham, Miss. Margaret Edith    0  19.0      0   \n",
              "889                              Behr, Mr. Karl Howell    1  26.0      0   \n",
              "\n",
              "     Parch            Ticket  Fare (USD)    Cabin Embarked  Age_Bins  New_Age  \\\n",
              "1        0          PC 17599     71.2833      C85        C         2     36.0   \n",
              "3        0            113803     53.1000     C123        S         2     36.0   \n",
              "6        0             17463     51.8625      E46        S         3     54.0   \n",
              "9        0            237736     30.0708  Unknown        C         0      4.0   \n",
              "11       0            113783     26.5500     C103        S         3     54.0   \n",
              "..     ...               ...         ...      ...      ...       ...      ...   \n",
              "880      1            230433     26.0000  Unknown        S         1     25.0   \n",
              "883      0  C.A./SOTON 34068     10.5000  Unknown        S         1     25.0   \n",
              "886      0            211536     13.0000  Unknown        S         1     25.0   \n",
              "887      0            112053     30.0000      B42        S         1     25.0   \n",
              "889      0            111369     30.0000     C148        C         1     25.0   \n",
              "\n",
              "     Scaled_Age  \n",
              "1      0.470566  \n",
              "3      0.432749  \n",
              "6      0.672255  \n",
              "9      0.168032  \n",
              "11     0.722677  \n",
              "..          ...  \n",
              "880    0.306694  \n",
              "883    0.344510  \n",
              "886    0.331905  \n",
              "887    0.231060  \n",
              "889    0.319299  \n",
              "\n",
              "[378 rows x 15 columns]"
            ]
          },
          "execution_count": 100,
          "metadata": {},
          "output_type": "execute_result"
        }
      ],
      "source": [
        "encoded_dataset"
      ]
    },
    {
      "cell_type": "markdown",
      "metadata": {
        "id": "vSPSoWFYxzhb"
      },
      "source": [
        "##**Part 2: Exploratory Data Analysis (EDA)**"
      ]
    },
    {
      "cell_type": "markdown",
      "metadata": {
        "id": "hYfI5VrBx21x"
      },
      "source": [
        "Summary statistics are exactly what they sound like - they summarize many numbers in one statistic. For example, mean, median, mode, minimum, maximum, variance and standard deviation are summary statistics. Calculating summary statistics allows you to get a better sense of your data, even if there's a lot of it.\n",
        "\n",
        "**NOTE: In EDA, you will use only the cleaned dataset (without missing values, duplicates and outliers) but should not use the transformed data (normalized or encoded).**"
      ]
    },
    {
      "cell_type": "markdown",
      "metadata": {
        "id": "pVzQAGRzyFw_"
      },
      "source": [
        "**1.** Display the mean and median of all numerical columns."
      ]
    },
    {
      "cell_type": "code",
      "execution_count": null,
      "metadata": {
        "id": "gMtOYUt3RHUi",
        "outputId": "a3cf39c2-3f8d-4b8c-a16b-ab10aa66773a"
      },
      "outputs": [
        {
          "data": {
            "text/html": [
              "<div>\n",
              "<style scoped>\n",
              "    .dataframe tbody tr th:only-of-type {\n",
              "        vertical-align: middle;\n",
              "    }\n",
              "\n",
              "    .dataframe tbody tr th {\n",
              "        vertical-align: top;\n",
              "    }\n",
              "\n",
              "    .dataframe thead th {\n",
              "        text-align: right;\n",
              "    }\n",
              "</style>\n",
              "<table border=\"1\" class=\"dataframe\">\n",
              "  <thead>\n",
              "    <tr style=\"text-align: right;\">\n",
              "      <th></th>\n",
              "      <th>PassengerId</th>\n",
              "      <th>Survived</th>\n",
              "      <th>Pclass</th>\n",
              "      <th>Name</th>\n",
              "      <th>Sex</th>\n",
              "      <th>Age</th>\n",
              "      <th>SibSp</th>\n",
              "      <th>Parch</th>\n",
              "      <th>Ticket</th>\n",
              "      <th>Fare</th>\n",
              "      <th>Cabin</th>\n",
              "      <th>Embarked</th>\n",
              "      <th>Age_Bins</th>\n",
              "      <th>New_Age</th>\n",
              "    </tr>\n",
              "  </thead>\n",
              "  <tbody>\n",
              "    <tr>\n",
              "      <th>1</th>\n",
              "      <td>2</td>\n",
              "      <td>1</td>\n",
              "      <td>1</td>\n",
              "      <td>Cumings, Mrs. John Bradley (Florence Briggs Th...</td>\n",
              "      <td>female</td>\n",
              "      <td>38.0</td>\n",
              "      <td>1</td>\n",
              "      <td>0</td>\n",
              "      <td>PC 17599</td>\n",
              "      <td>71.2833</td>\n",
              "      <td>C85</td>\n",
              "      <td>C</td>\n",
              "      <td>2</td>\n",
              "      <td>36.0</td>\n",
              "    </tr>\n",
              "    <tr>\n",
              "      <th>3</th>\n",
              "      <td>4</td>\n",
              "      <td>1</td>\n",
              "      <td>1</td>\n",
              "      <td>Futrelle, Mrs. Jacques Heath (Lily May Peel)</td>\n",
              "      <td>female</td>\n",
              "      <td>35.0</td>\n",
              "      <td>1</td>\n",
              "      <td>0</td>\n",
              "      <td>113803</td>\n",
              "      <td>53.1000</td>\n",
              "      <td>C123</td>\n",
              "      <td>S</td>\n",
              "      <td>2</td>\n",
              "      <td>36.0</td>\n",
              "    </tr>\n",
              "    <tr>\n",
              "      <th>6</th>\n",
              "      <td>7</td>\n",
              "      <td>0</td>\n",
              "      <td>1</td>\n",
              "      <td>McCarthy, Mr. Timothy J</td>\n",
              "      <td>male</td>\n",
              "      <td>54.0</td>\n",
              "      <td>0</td>\n",
              "      <td>0</td>\n",
              "      <td>17463</td>\n",
              "      <td>51.8625</td>\n",
              "      <td>E46</td>\n",
              "      <td>S</td>\n",
              "      <td>3</td>\n",
              "      <td>54.0</td>\n",
              "    </tr>\n",
              "    <tr>\n",
              "      <th>9</th>\n",
              "      <td>10</td>\n",
              "      <td>1</td>\n",
              "      <td>2</td>\n",
              "      <td>Nasser, Mrs. Nicholas (Adele Achem)</td>\n",
              "      <td>female</td>\n",
              "      <td>14.0</td>\n",
              "      <td>1</td>\n",
              "      <td>0</td>\n",
              "      <td>237736</td>\n",
              "      <td>30.0708</td>\n",
              "      <td>Unknown</td>\n",
              "      <td>C</td>\n",
              "      <td>0</td>\n",
              "      <td>4.0</td>\n",
              "    </tr>\n",
              "    <tr>\n",
              "      <th>11</th>\n",
              "      <td>12</td>\n",
              "      <td>1</td>\n",
              "      <td>1</td>\n",
              "      <td>Bonnell, Miss. Elizabeth</td>\n",
              "      <td>female</td>\n",
              "      <td>58.0</td>\n",
              "      <td>0</td>\n",
              "      <td>0</td>\n",
              "      <td>113783</td>\n",
              "      <td>26.5500</td>\n",
              "      <td>C103</td>\n",
              "      <td>S</td>\n",
              "      <td>3</td>\n",
              "      <td>54.0</td>\n",
              "    </tr>\n",
              "    <tr>\n",
              "      <th>...</th>\n",
              "      <td>...</td>\n",
              "      <td>...</td>\n",
              "      <td>...</td>\n",
              "      <td>...</td>\n",
              "      <td>...</td>\n",
              "      <td>...</td>\n",
              "      <td>...</td>\n",
              "      <td>...</td>\n",
              "      <td>...</td>\n",
              "      <td>...</td>\n",
              "      <td>...</td>\n",
              "      <td>...</td>\n",
              "      <td>...</td>\n",
              "      <td>...</td>\n",
              "    </tr>\n",
              "    <tr>\n",
              "      <th>880</th>\n",
              "      <td>881</td>\n",
              "      <td>1</td>\n",
              "      <td>2</td>\n",
              "      <td>Shelley, Mrs. William (Imanita Parrish Hall)</td>\n",
              "      <td>female</td>\n",
              "      <td>25.0</td>\n",
              "      <td>0</td>\n",
              "      <td>1</td>\n",
              "      <td>230433</td>\n",
              "      <td>26.0000</td>\n",
              "      <td>Unknown</td>\n",
              "      <td>S</td>\n",
              "      <td>1</td>\n",
              "      <td>25.0</td>\n",
              "    </tr>\n",
              "    <tr>\n",
              "      <th>883</th>\n",
              "      <td>884</td>\n",
              "      <td>0</td>\n",
              "      <td>2</td>\n",
              "      <td>Banfield, Mr. Frederick James</td>\n",
              "      <td>male</td>\n",
              "      <td>28.0</td>\n",
              "      <td>0</td>\n",
              "      <td>0</td>\n",
              "      <td>C.A./SOTON 34068</td>\n",
              "      <td>10.5000</td>\n",
              "      <td>Unknown</td>\n",
              "      <td>S</td>\n",
              "      <td>1</td>\n",
              "      <td>25.0</td>\n",
              "    </tr>\n",
              "    <tr>\n",
              "      <th>886</th>\n",
              "      <td>887</td>\n",
              "      <td>0</td>\n",
              "      <td>2</td>\n",
              "      <td>Montvila, Rev. Juozas</td>\n",
              "      <td>male</td>\n",
              "      <td>27.0</td>\n",
              "      <td>0</td>\n",
              "      <td>0</td>\n",
              "      <td>211536</td>\n",
              "      <td>13.0000</td>\n",
              "      <td>Unknown</td>\n",
              "      <td>S</td>\n",
              "      <td>1</td>\n",
              "      <td>25.0</td>\n",
              "    </tr>\n",
              "    <tr>\n",
              "      <th>887</th>\n",
              "      <td>888</td>\n",
              "      <td>1</td>\n",
              "      <td>1</td>\n",
              "      <td>Graham, Miss. Margaret Edith</td>\n",
              "      <td>female</td>\n",
              "      <td>19.0</td>\n",
              "      <td>0</td>\n",
              "      <td>0</td>\n",
              "      <td>112053</td>\n",
              "      <td>30.0000</td>\n",
              "      <td>B42</td>\n",
              "      <td>S</td>\n",
              "      <td>1</td>\n",
              "      <td>25.0</td>\n",
              "    </tr>\n",
              "    <tr>\n",
              "      <th>889</th>\n",
              "      <td>890</td>\n",
              "      <td>1</td>\n",
              "      <td>1</td>\n",
              "      <td>Behr, Mr. Karl Howell</td>\n",
              "      <td>male</td>\n",
              "      <td>26.0</td>\n",
              "      <td>0</td>\n",
              "      <td>0</td>\n",
              "      <td>111369</td>\n",
              "      <td>30.0000</td>\n",
              "      <td>C148</td>\n",
              "      <td>C</td>\n",
              "      <td>1</td>\n",
              "      <td>25.0</td>\n",
              "    </tr>\n",
              "  </tbody>\n",
              "</table>\n",
              "<p>378 rows × 14 columns</p>\n",
              "</div>"
            ],
            "text/plain": [
              "     PassengerId  Survived  Pclass  \\\n",
              "1              2         1       1   \n",
              "3              4         1       1   \n",
              "6              7         0       1   \n",
              "9             10         1       2   \n",
              "11            12         1       1   \n",
              "..           ...       ...     ...   \n",
              "880          881         1       2   \n",
              "883          884         0       2   \n",
              "886          887         0       2   \n",
              "887          888         1       1   \n",
              "889          890         1       1   \n",
              "\n",
              "                                                  Name     Sex   Age  SibSp  \\\n",
              "1    Cumings, Mrs. John Bradley (Florence Briggs Th...  female  38.0      1   \n",
              "3         Futrelle, Mrs. Jacques Heath (Lily May Peel)  female  35.0      1   \n",
              "6                              McCarthy, Mr. Timothy J    male  54.0      0   \n",
              "9                  Nasser, Mrs. Nicholas (Adele Achem)  female  14.0      1   \n",
              "11                            Bonnell, Miss. Elizabeth  female  58.0      0   \n",
              "..                                                 ...     ...   ...    ...   \n",
              "880       Shelley, Mrs. William (Imanita Parrish Hall)  female  25.0      0   \n",
              "883                      Banfield, Mr. Frederick James    male  28.0      0   \n",
              "886                              Montvila, Rev. Juozas    male  27.0      0   \n",
              "887                       Graham, Miss. Margaret Edith  female  19.0      0   \n",
              "889                              Behr, Mr. Karl Howell    male  26.0      0   \n",
              "\n",
              "     Parch            Ticket     Fare    Cabin Embarked  Age_Bins  New_Age  \n",
              "1        0          PC 17599  71.2833      C85        C         2     36.0  \n",
              "3        0            113803  53.1000     C123        S         2     36.0  \n",
              "6        0             17463  51.8625      E46        S         3     54.0  \n",
              "9        0            237736  30.0708  Unknown        C         0      4.0  \n",
              "11       0            113783  26.5500     C103        S         3     54.0  \n",
              "..     ...               ...      ...      ...      ...       ...      ...  \n",
              "880      1            230433  26.0000  Unknown        S         1     25.0  \n",
              "883      0  C.A./SOTON 34068  10.5000  Unknown        S         1     25.0  \n",
              "886      0            211536  13.0000  Unknown        S         1     25.0  \n",
              "887      0            112053  30.0000      B42        S         1     25.0  \n",
              "889      0            111369  30.0000     C148        C         1     25.0  \n",
              "\n",
              "[378 rows x 14 columns]"
            ]
          },
          "execution_count": 101,
          "metadata": {},
          "output_type": "execute_result"
        }
      ],
      "source": [
        "cleaned_dataset"
      ]
    },
    {
      "cell_type": "code",
      "execution_count": null,
      "metadata": {
        "id": "ANUZF3D7RHUi",
        "outputId": "15dcddbd-32b1-4eaa-848a-abc00902d93f"
      },
      "outputs": [
        {
          "name": "stdout",
          "output_type": "stream",
          "text": [
            "PassengerId      int64\n",
            "Survived         int64\n",
            "Pclass           int64\n",
            "Name            object\n",
            "Sex             object\n",
            "Age            float64\n",
            "SibSp            int64\n",
            "Parch            int64\n",
            "Ticket          object\n",
            "Fare           float64\n",
            "Cabin           object\n",
            "Embarked        object\n",
            "Age_Bins         int64\n",
            "New_Age        float64\n",
            "dtype: object\n"
          ]
        }
      ],
      "source": [
        "print(cleaned_dataset.dtypes)"
      ]
    },
    {
      "cell_type": "code",
      "execution_count": null,
      "metadata": {
        "id": "TYOa1vMHyD4Q",
        "outputId": "4f2dc404-ced1-48ab-db0a-15a364c8e1bf"
      },
      "outputs": [
        {
          "name": "stdout",
          "output_type": "stream",
          "text": [
            "Mean of numerical columns:\n",
            " PassengerId    452.571429\n",
            "Survived         0.547619\n",
            "Pclass           1.486772\n",
            "Age             34.207011\n",
            "SibSp            0.391534\n",
            "Parch            0.325397\n",
            "Fare            42.495635\n",
            "Age_Bins         1.690476\n",
            "New_Age         33.156085\n",
            "dtype: float64\n",
            "\n",
            "Median of numerical columns:\n",
            " PassengerId    453.5000\n",
            "Survived         1.0000\n",
            "Pclass           1.0000\n",
            "Age             33.0000\n",
            "SibSp            0.0000\n",
            "Parch            0.0000\n",
            "Fare            27.7208\n",
            "Age_Bins         2.0000\n",
            "New_Age         36.0000\n",
            "dtype: float64\n"
          ]
        }
      ],
      "source": [
        "mean = cleaned_dataset.mean(numeric_only=True)\n",
        "median = cleaned_dataset.median(numeric_only=True)\n",
        "\n",
        "print(\"Mean of numerical columns:\\n\", mean)\n",
        "print(\"\\nMedian of numerical columns:\\n\", median)"
      ]
    },
    {
      "cell_type": "markdown",
      "metadata": {
        "id": "jaBxfNauyMPB"
      },
      "source": [
        "**2.** Print the maximum and minimum values of the **Fare** column."
      ]
    },
    {
      "cell_type": "code",
      "execution_count": null,
      "metadata": {
        "id": "UwxnWEWCyQ0N",
        "outputId": "3dd09e9a-8131-4d2b-d442-3bd8ce485f60"
      },
      "outputs": [
        {
          "name": "stdout",
          "output_type": "stream",
          "text": [
            "Maximum Fare: 153.4625\n",
            "Minimum Fare: 0.0\n"
          ]
        }
      ],
      "source": [
        "max_fare = cleaned_dataset['Fare'].max()\n",
        "min_fare = cleaned_dataset['Fare'].min()\n",
        "\n",
        "print(\"Maximum Fare:\", max_fare)\n",
        "print(\"Minimum Fare:\", min_fare)"
      ]
    },
    {
      "cell_type": "markdown",
      "metadata": {
        "id": "Qq2Ot6-UyUGJ"
      },
      "source": [
        "**3.** Group passengers by **Pclass** and calculate the average **Fare** per class."
      ]
    },
    {
      "cell_type": "code",
      "execution_count": null,
      "metadata": {
        "id": "r77lswh3yZVA",
        "outputId": "a65c559b-90d1-4b04-b9f2-42cddcbe552a"
      },
      "outputs": [
        {
          "name": "stdout",
          "output_type": "stream",
          "text": [
            "Pclass\n",
            "1    63.203651\n",
            "2    20.662183\n",
            "Name: Fare, dtype: float64\n"
          ]
        }
      ],
      "source": [
        "avg_fare_per_class = cleaned_dataset.groupby('Pclass')['Fare'].mean()\n",
        "\n",
        "print(avg_fare_per_class)"
      ]
    },
    {
      "cell_type": "markdown",
      "metadata": {
        "id": "FQpnAOsKyZyW"
      },
      "source": [
        "**4.** The `.agg()` method allows you to apply more than one function at the same time to the DataFrame. Calculate the variance and standard deviation of the **Age** column using the `.agg()` method."
      ]
    },
    {
      "cell_type": "code",
      "execution_count": null,
      "metadata": {
        "id": "wPVIgD-AyiDc",
        "outputId": "a4039f55-9c56-4f06-eea9-964aba19b419"
      },
      "outputs": [
        {
          "name": "stdout",
          "output_type": "stream",
          "text": [
            "var    205.401789\n",
            "std     14.331845\n",
            "Name: Age, dtype: float64\n"
          ]
        }
      ],
      "source": [
        "age_stats = cleaned_dataset['Age'].agg(['var', 'std'])\n",
        "\n",
        "print(age_stats)"
      ]
    },
    {
      "cell_type": "markdown",
      "metadata": {
        "id": "cFQrvXWhyhQr"
      },
      "source": [
        "**5.** The `.agg()` method also allows you to apply custom functions to a DataFrame. Create a custom **IQR** function using `.agg()` to calculate the Interquartile Range (IQR) for **Age**, **Fare**, and **SibSp**."
      ]
    },
    {
      "cell_type": "code",
      "execution_count": null,
      "metadata": {
        "id": "Ll69kE59yvRs",
        "outputId": "0ab4cb6d-937c-4210-a816-263a06e2072b"
      },
      "outputs": [
        {
          "name": "stdout",
          "output_type": "stream",
          "text": [
            "Age      17.75000\n",
            "Fare     44.17085\n",
            "SibSp     1.00000\n",
            "dtype: float64\n"
          ]
        }
      ],
      "source": [
        "import numpy as np\n",
        "\n",
        "\n",
        "def IQR(series):\n",
        "    return np.percentile(series.dropna(), 75) - np.percentile(series.dropna(), 25)\n",
        "\n",
        "\n",
        "iqr_values = cleaned_dataset[['Age', 'Fare', 'SibSp']].agg(IQR)\n",
        "\n",
        "print(iqr_values)"
      ]
    },
    {
      "cell_type": "markdown",
      "metadata": {
        "id": "iARKbM2u0Bls"
      },
      "source": [
        "**6.** Take a subset of the dataset for passengers who survived (**Survived = 1**) and calculate the mean age of these passengers."
      ]
    },
    {
      "cell_type": "code",
      "execution_count": null,
      "metadata": {
        "id": "QVJqP-7B0GWU",
        "outputId": "5194ced3-2ba3-460c-f78e-6ed3a65f3817"
      },
      "outputs": [
        {
          "name": "stdout",
          "output_type": "stream",
          "text": [
            "Mean Age of Survived Passengers: 31.67\n"
          ]
        }
      ],
      "source": [
        "\n",
        "survived_passengers = cleaned_dataset[cleaned_dataset['Survived'] == 1]\n",
        "\n",
        "mean_age_survived = survived_passengers['Age'].mean()\n",
        "\n",
        "print(f\"Mean Age of Survived Passengers: {mean_age_survived:.2f}\")"
      ]
    },
    {
      "cell_type": "markdown",
      "metadata": {
        "id": "b0IwepN40jsb"
      },
      "source": [
        "##**Data Visualization**\n",
        "\n",
        "Visualizing data provides insights into distribution patterns and relationships between variables.\n",
        "\n",
        "Your tasks will involve:\n",
        "\n",
        "**Univariate Analysis:** Analyze the distribution of individual variables.\n",
        "\n",
        "**Bivariate Analysis:** Explore the relationships between two variables."
      ]
    },
    {
      "cell_type": "markdown",
      "metadata": {
        "id": "gtXIJ45606hQ"
      },
      "source": [
        "###**Univariate Analysis:**"
      ]
    },
    {
      "cell_type": "markdown",
      "metadata": {
        "id": "DmdwOAi10rpR"
      },
      "source": [
        "**1. Histograms: (Good for interval data)**\n",
        "\n",
        "A histogram divides the data into discrete intervals or \"bins\" and shows the number of data points that fall into each bin.\n",
        "\n",
        "* Create a histogram for **Fare** to analyze fare distribution."
      ]
    },
    {
      "cell_type": "code",
      "execution_count": null,
      "metadata": {
        "id": "A-9K7_200jTP",
        "outputId": "5c9deed5-4ac1-4317-947d-9d5f9ac87d7b"
      },
      "outputs": [
        {
          "data": {
            "image/png": "[encoded data removed]",
            "text/plain": [
              "<Figure size 1000x500 with 1 Axes>"
            ]
          },
          "metadata": {},
          "output_type": "display_data"
        }
      ],
      "source": [
        "plt.figure(figsize=(10, 5))\n",
        "sb.histplot(cleaned_dataset['Fare'], bins=30, kde=True, color='royalblue')\n",
        "plt.xlabel(\"Fare\", fontsize=12)\n",
        "plt.ylabel(\"Count\", fontsize=12)\n",
        "plt.title(\"Fare Distribution\", fontsize=14)\n",
        "plt.grid(axis='y', linestyle='--', alpha=0.7)\n",
        "\n",
        "plt.show()"
      ]
    },
    {
      "cell_type": "markdown",
      "metadata": {
        "id": "YYKcQtyA1GqW"
      },
      "source": [
        "**2. Bar Charts: (Good for nominal and small ordinal categorical data)**\n",
        "\n",
        "Bar charts visualize data that is organized according to categories as a series of bars, where the height of each bar represents the values of the data in this category.\n",
        "\n",
        "* Create a bar chart for **Pclass** to visualize the number of passengers in each class."
      ]
    },
    {
      "cell_type": "code",
      "execution_count": null,
      "metadata": {
        "id": "RicQuawn1LfB",
        "outputId": "49259cc2-74e1-4d48-ca25-842318605f09"
      },
      "outputs": [
        {
          "data": {
            "image/png": "[encoded data removed]",
            "text/plain": [
              "<Figure size 800x500 with 1 Axes>"
            ]
          },
          "metadata": {},
          "output_type": "display_data"
        }
      ],
      "source": [
        "plt.figure(figsize=(8, 5))\n",
        "sb.countplot(x='Pclass', data=cleaned_dataset, hue='Pclass', palette='PiYG', legend=False)\n",
        "plt.xlabel(\"Passenger Class (Pclass)\", fontsize=12)\n",
        "plt.ylabel(\"Number of Passengers\", fontsize=12)\n",
        "plt.title(\"Passenger Distribution by Class\", fontsize=14)\n",
        "plt.grid(axis='y', linestyle='--', alpha=0.7)\n",
        "\n",
        "plt.show()"
      ]
    },
    {
      "cell_type": "markdown",
      "metadata": {
        "id": "LfLOBflr1KsI"
      },
      "source": [
        "**3. Boxplots:**\n",
        "\n",
        "A box-and-whisker plot is a graphical representation of the spread and distribution of a dataset. It displays the central tendency, data spread, and identifies potential outliers.\n",
        "\n",
        "* Use a boxplot to check for outliers in the **Age**."
      ]
    },
    {
      "cell_type": "code",
      "execution_count": null,
      "metadata": {
        "id": "GRQZyPnR1OBE",
        "outputId": "13fcd0cb-30c4-44e1-c57e-fdf090a7170a"
      },
      "outputs": [
        {
          "data": {
            "image/png": "[encoded data removed]",
            "text/plain": [
              "<Figure size 800x500 with 1 Axes>"
            ]
          },
          "metadata": {},
          "output_type": "display_data"
        }
      ],
      "source": [
        "import seaborn as sns\n",
        "import matplotlib.pyplot as plt\n",
        "\n",
        "plt.figure(figsize=(8,5))\n",
        "sb.boxplot(x=cleaned_dataset['Age'], color=\"teal\")\n",
        "plt.title(\"Boxplot of Age to Detect Outliers\")\n",
        "plt.show()\n"
      ]
    },
    {
      "cell_type": "markdown",
      "metadata": {
        "id": "Q04E0Z3_1SW4"
      },
      "source": [
        "**4. Pie Chart: (Ideal for visualizing proportions of categorical data)**\n",
        "\n",
        "A pie chart represents data as slices of a pie, showing the proportion of each category in a single variable.\n",
        "\n",
        "* Create a pie chart for **Survived** to show the proportion of survivors and non-survivors."
      ]
    },
    {
      "cell_type": "code",
      "execution_count": null,
      "metadata": {
        "id": "YHcjfcMb1UvZ",
        "outputId": "986452c0-3d79-4809-c8c1-9c32451de3de"
      },
      "outputs": [
        {
          "data": {
            "image/png": "[encoded data removed]",
            "text/plain": [
              "<Figure size 600x600 with 1 Axes>"
            ]
          },
          "metadata": {},
          "output_type": "display_data"
        }
      ],
      "source": [
        "\n",
        "survival_counts = cleaned_dataset['Survived'].value_counts()\n",
        "\n",
        "labels = ['Did Not Survive', 'Survived']\n",
        "\n",
        "colors = ['deeppink', 'lawngreen']\n",
        "\n",
        "plt.figure(figsize=(6,6))\n",
        "plt.pie(survival_counts, labels=labels, autopct='%1.1f%%', colors=colors, startangle=90, wedgeprops={'edgecolor': 'black'})\n",
        "plt.title('Survival Proportion')\n",
        "plt.show()\n"
      ]
    },
    {
      "cell_type": "markdown",
      "metadata": {
        "id": "mICND2yT1U78"
      },
      "source": [
        "###**Bivariate Analysis:**"
      ]
    },
    {
      "cell_type": "markdown",
      "metadata": {
        "id": "X_oivTVh1X4C"
      },
      "source": [
        "**1. Scatter Plots: (Good for interval and some nominal categorical data)**\n",
        "\n",
        "A scatter plot is a graphical representation of data points in a Cartesian coordinate system. Each data point is represented as a dot on the plot. Scatter plots are used to visualize the relationship between two continuous variables, making them suitable for assessing correlation.\n",
        "\n",
        "* Analyze the relationship between **Age** and **Fare**."
      ]
    },
    {
      "cell_type": "code",
      "execution_count": null,
      "metadata": {
        "id": "r94syeVV1bUW",
        "outputId": "c4ebeb42-acf3-47ec-952f-47cc18f4a6d8"
      },
      "outputs": [
        {
          "data": {
            "image/png": "[encoded data removed]",
            "text/plain": [
              "<Figure size 800x600 with 1 Axes>"
            ]
          },
          "metadata": {},
          "output_type": "display_data"
        }
      ],
      "source": [
        "\n",
        "plt.figure(figsize=(8,6))\n",
        "sb.scatterplot(x='Age', y='Fare', data=cleaned_dataset, alpha=0.6, color='red')\n",
        "plt.xlabel('Age')\n",
        "plt.ylabel('Fare')\n",
        "plt.title('Scatter Plot of Age vs. Fare')\n",
        "plt.show()\n"
      ]
    },
    {
      "cell_type": "markdown",
      "metadata": {
        "id": "Giu9kfbJ1bxQ"
      },
      "source": [
        "**2. Boxplots:**\n",
        "\n",
        "Create a boxplot for **Fare** grouped by **Pclass** to examine fare variations across classes."
      ]
    },
    {
      "cell_type": "code",
      "execution_count": null,
      "metadata": {
        "id": "hLRR8NcN6Wgx",
        "outputId": "7a2c456d-b9f3-4340-f1e6-e23c21a34c5f"
      },
      "outputs": [
        {
          "data": {
            "image/png": "[encoded data removed]",
            "text/plain": [
              "<Figure size 800x600 with 1 Axes>"
            ]
          },
          "metadata": {},
          "output_type": "display_data"
        }
      ],
      "source": [
        "\n",
        "plt.figure(figsize=(8,6))\n",
        "sb.boxplot(x='Pclass', y='Fare', data=cleaned_dataset, palette='PiYG', legend=False, hue='Pclass')\n",
        "plt.xlabel('Passenger Class')\n",
        "plt.ylabel('Fare')\n",
        "plt.title('Boxplot of Fare by Pclass')\n",
        "plt.show()\n"
      ]
    },
    {
      "cell_type": "markdown",
      "metadata": {
        "id": "1TIWGLOk3gql"
      },
      "source": [
        "##**Correlation Analysis**\n",
        "\n",
        "Correlation is a statistical measure that helps us understand the relationship or association between two or more variables in a dataset. It tells us how these variables change in relation to each other. Correlation is often used to determine whether there's a connection between variables and, if so, the strength and direction of that connection."
      ]
    },
    {
      "cell_type": "markdown",
      "metadata": {
        "id": "J9xnfX1h3jHp"
      },
      "source": [
        "**1.** Calculate the correlation between the following pairs of variables:\n",
        "\n",
        "* **Age** and **Fare**"
      ]
    },
    {
      "cell_type": "code",
      "execution_count": null,
      "metadata": {
        "id": "afG6b6_z6VD8",
        "outputId": "27025bd7-a20b-481b-b417-28be87c908c5"
      },
      "outputs": [
        {
          "name": "stdout",
          "output_type": "stream",
          "text": [
            "Correlation between Age and Fare: 0.02316726168871578\n"
          ]
        }
      ],
      "source": [
        "correlation = cleaned_dataset['Age'].corr(cleaned_dataset['Fare'])\n",
        "print(f\"Correlation between Age and Fare: {correlation}\")\n"
      ]
    },
    {
      "cell_type": "markdown",
      "metadata": {
        "id": "RcP3aDz74uuA"
      },
      "source": [
        "**2.** Create a heatmap to visualize the correlation between **Age** and **Fare**.\n",
        "\n"
      ]
    },
    {
      "cell_type": "code",
      "execution_count": null,
      "metadata": {
        "id": "dGbIin2M4tLj",
        "outputId": "7da97c55-909a-4eec-a476-6aa760388908"
      },
      "outputs": [
        {
          "data": {
            "image/png": "[encoded data removed]",
            "text/plain": [
              "<Figure size 500x400 with 2 Axes>"
            ]
          },
          "metadata": {},
          "output_type": "display_data"
        }
      ],
      "source": [
        "correlation_matrix = cleaned_dataset[['Age', 'Fare']].corr()\n",
        "plt.figure(figsize=(5, 4))\n",
        "sb.heatmap(correlation_matrix, annot=True, cmap='coolwarm', fmt=\".2f\", linewidths=0.5)\n",
        "plt.title(\"Correlation Heatmap: Age vs Fare\")\n",
        "plt.show()"
      ]
    },
    {
      "cell_type": "markdown",
      "metadata": {
        "id": "RGMHSxSrA-c2"
      },
      "source": [
        "**3.** Perform a Chi-Square test to analyze the relationship between **Survived** and **Pclass**."
      ]
    },
    {
      "cell_type": "code",
      "execution_count": null,
      "metadata": {
        "id": "p03qbnI2A9j5",
        "outputId": "ec7a0bdc-cb3e-41f6-fa3f-b9422491d37a"
      },
      "outputs": [
        {
          "name": "stdout",
          "output_type": "stream",
          "text": [
            "Chi-Square Statistic: 7.52\n",
            "P-Value: 0.00611\n",
            "Degrees of Freedom: 1\n",
            "Expected Frequencies Table:\n",
            "Pclass                 1           2\n",
            "Not Survived   87.761905   83.238095\n",
            "Survived      106.238095  100.761905\n"
          ]
        }
      ],
      "source": [
        "import scipy.stats as stats\n",
        "\n",
        "contingency_table = pd.crosstab(cleaned_dataset['Survived'], cleaned_dataset['Pclass'])\n",
        "chi2_stat, p_value, dof, expected = stats.chi2_contingency(contingency_table)\n",
        "\n",
        "print(f\"Chi-Square Statistic: {chi2_stat:.2f}\")\n",
        "print(f\"P-Value: {p_value:.5f}\")\n",
        "print(f\"Degrees of Freedom: {dof}\")\n",
        "print(\"Expected Frequencies Table:\")\n",
        "print(pd.DataFrame(expected, index=['Not Survived', 'Survived'], columns=contingency_table.columns))"
      ]
    }
  ],
  "metadata": {
    "colab": {
      "provenance": []
    },
    "kernelspec": {
      "display_name": "Python 3 (ipykernel)",
      "language": "python",
      "name": "python3"
    },
    "language_info": {
      "codemirror_mode": {
        "name": "ipython",
        "version": 3
      },
      "file_extension": ".py",
      "mimetype": "text/x-python",
      "name": "python",
      "nbconvert_exporter": "python",
      "pygments_lexer": "ipython3",
      "version": "3.10.0"
    }
  },
  "nbformat": 4,
  "nbformat_minor": 0
}