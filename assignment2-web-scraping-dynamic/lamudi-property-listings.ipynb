{
 "cells": [
  {
   "cell_type": "code",
   "execution_count": 10,
   "id": "ac19f304-4765-41b1-8946-b8526c950d27",
   "metadata": {},
   "outputs": [],
   "source": [
    "from selenium import webdriver\n",
    "from selenium.webdriver.chrome.service import Service\n",
    "from selenium.webdriver.chrome.options import Options\n",
    "from selenium.webdriver.common.by import By\n",
    "from selenium.webdriver.common.keys import Keys\n",
    "from selenium.webdriver.common.action_chains import ActionChains\n",
    "from selenium.webdriver.support.ui import WebDriverWait\n",
    "from selenium.webdriver.support import expected_conditions as EC\n",
    "from bs4 import BeautifulSoup\n",
    "import pandas as pd\n",
    "import time\n",
    "from webdriver_manager.chrome import ChromeDriverManager\n"
   ]
  },
  {
   "cell_type": "code",
   "execution_count": 5,
   "id": "38b1f908-478e-4067-888c-822b13592fae",
   "metadata": {},
   "outputs": [],
   "source": [
    "\n",
    "service = Service(ChromeDriverManager().install())\n",
    "driver = webdriver.Chrome(service=service)\n",
    "driver.get(\"https://www.lamudi.pk/search/lahore/homes-for-sale-in-dha-phase-6-1448/?location_ids=1448,1450,1451\")"
   ]
  },
  {
   "cell_type": "code",
   "execution_count": 7,
   "id": "0ee5939d-95ea-4350-aca0-d977ddace8d8",
   "metadata": {},
   "outputs": [],
   "source": [
    "property_location = []\n",
    "property_prices = []\n",
    "property_size = []\n",
    "bed_count = []\n",
    "bath_count = []\n",
    "property_description = []\n"
   ]
  },
  {
   "cell_type": "code",
   "execution_count": 26,
   "id": "a088882e-e1b8-4e45-b2b1-70f64d323090",
   "metadata": {},
   "outputs": [
    {
     "name": "stdout",
     "output_type": "stream",
     "text": [
      "                               Location            Price      Area Beds Baths\n",
      "115            DHA Phase 6, DHA Defence   PKR 7.99 Crore   1 Kanal    5     6\n",
      "116            DHA Phase 6, DHA Defence     PKR 57 Crore   2 Kanal    7     7\n",
      "117            DHA Phase 6, DHA Defence     PKR 13 Crore   1 Kanal    5     6\n",
      "118            DHA Phase 7, DHA Defence    PKR 9.5 Crore   1 Kanal    5     7\n",
      "119            DHA Phase 7, DHA Defence   PKR 7.15 Crore   1 Kanal    5     6\n",
      "120  DHA Phase 6 - Block L, DHA Phase 6   PKR 24.5 Crore   1 Kanal    6     7\n",
      "121            DHA Phase 6, DHA Defence  PKR 13.99 Crore   1 Kanal    5     6\n",
      "122  DHA Phase 6 - Block G, DHA Phase 6   PKR 11.5 Crore   1 Kanal    5     6\n",
      "123  DHA Phase 6 - Block L, DHA Phase 6    PKR 7.9 Crore   1 Kanal    5     6\n",
      "124            DHA Phase 7, DHA Defence      PKR 5 Crore  10 Marla    4     5\n"
     ]
    }
   ],
   "source": [
    "\n",
    "options = Options()\n",
    "options.add_argument(\"--headless\")  # Run in headless mode\n",
    "options.add_argument(\"--disable-gpu\")\n",
    "options.add_argument(\"--no-sandbox\")\n",
    "options.add_argument(\"--disable-dev-shm-usage\")\n",
    "\n",
    "\n",
    "driver = webdriver.Chrome(service=Service(ChromeDriverManager().install()), options=options)\n",
    "\n",
    "# Base URL\n",
    "base_url = \"https://www.lamudi.pk/search/lahore/homes-for-sale-in-dha-phase-6-1448/?location_ids=1448,1450,1451\"\n",
    "\n",
    "\n",
    "property_list = []\n",
    "\n",
    "\n",
    "for page in range(1, 6):\n",
    "    url = f\"{base_url}&page={page}\"\n",
    "    driver.get(url)\n",
    "    \n",
    "    WebDriverWait(driver, 5).until(EC.presence_of_element_located((By.CLASS_NAME, \"u-mb32\")))\n",
    "    \n",
    "    soup = BeautifulSoup(driver.page_source, \"html.parser\")\n",
    "    \n",
    "    listings = soup.find_all(\"div\", class_=\"card-horizontal_cardHorizontal__OzX3s\")\n",
    "\n",
    "    for listing in listings:\n",
    "        \n",
    "        try:\n",
    "            location = listing.find(\"div\", class_=\"card-horizontal_cardSubTitle__3FJyc\").text.strip()\n",
    "        except AttributeError:\n",
    "            location = None\n",
    "        \n",
    "        try:\n",
    "            price = listing.find(\"h4\", class_=\"card-horizontal_cardTitle__dHyrR price_price__oxYSY heading_h4__5Kb_J\").text.strip()\n",
    "        except AttributeError:\n",
    "            price = None\n",
    "        \n",
    "        specs = listing.find(\"div\", class_=\"card-horizontal_cardSpecs__3U-Ym\")\n",
    "        if specs:\n",
    "            specs_divs = specs.find_all(\"div\") \n",
    "            try:\n",
    "                area = specs_divs[0].text.strip() if len(specs_divs) > 0 else None\n",
    "            except AttributeError:\n",
    "                area = None\n",
    "\n",
    "            try:\n",
    "                beds = specs_divs[1].text.strip() if len(specs_divs) > 1 else None\n",
    "            except AttributeError:\n",
    "                beds = None\n",
    "\n",
    "            try:\n",
    "                baths = specs_divs[2].text.strip() if len(specs_divs) > 2 else None\n",
    "            except AttributeError:\n",
    "                baths = None\n",
    "        else:\n",
    "            area, beds, baths = None, None, None\n",
    "\n",
    "        property_list.append({\n",
    "            \"Location\": location,\n",
    "            \"Price\": price,\n",
    "            \"Area\": area,\n",
    "            \"Beds\": beds,\n",
    "            \"Baths\": baths\n",
    "        })\n",
    "\n",
    "driver.quit()\n",
    "\n",
    "df = pd.DataFrame(property_list)\n",
    "\n",
    "df.to_csv(\"lamudi_listings.csv\", index=False)\n",
    "\n",
    "print(df.tail(10))"
   ]
  }
 ],
 "metadata": {
  "kernelspec": {
   "display_name": "Python 3 (ipykernel)",
   "language": "python",
   "name": "python3"
  },
  "language_info": {
   "codemirror_mode": {
    "name": "ipython",
    "version": 3
   },
   "file_extension": ".py",
   "mimetype": "text/x-python",
   "name": "python",
   "nbconvert_exporter": "python",
   "pygments_lexer": "ipython3",
   "version": "3.10.0"
  }
 },
 "nbformat": 4,
 "nbformat_minor": 5
}
