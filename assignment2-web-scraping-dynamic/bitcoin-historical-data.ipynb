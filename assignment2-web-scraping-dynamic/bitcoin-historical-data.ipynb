{
 "cells": [
  {
   "cell_type": "code",
   "execution_count": 48,
   "id": "34fe4b0b-9093-4c52-8b8f-b0f26e39a644",
   "metadata": {},
   "outputs": [],
   "source": [
    "from selenium import webdriver\n",
    "from selenium.webdriver.chrome.service import Service\n",
    "from webdriver_manager.chrome import ChromeDriverManager\n",
    "\n",
    "\n",
    "service = Service(ChromeDriverManager().install())\n",
    "driver = webdriver.Chrome(service=service)\n",
    "driver.get(\"https://google.com\")"
   ]
  },
  {
   "cell_type": "code",
   "execution_count": 49,
   "id": "5d299366-7b4c-4ab8-9804-df5dc8c32c02",
   "metadata": {},
   "outputs": [],
   "source": [
    "\n",
    "search_box = WebDriverWait(driver, 10).until(\n",
    "    EC.presence_of_element_located((By.NAME, \"q\"))\n",
    ")\n",
    "\n",
    "search_box.send_keys(\"Bitcoin USD (BTC-USD) Historical Data - Yahoo Finance\")\n",
    "search_box.send_keys(Keys.ENTER)\n",
    "time.sleep(20)"
   ]
  },
  {
   "cell_type": "code",
   "execution_count": 50,
   "id": "8c56833a-b632-4bb6-9b9e-580040d4a6af",
   "metadata": {},
   "outputs": [
    {
     "data": {
      "text/plain": [
       "[<selenium.webdriver.remote.webelement.WebElement (session=\"6740400a40242730d5f1d39a412d2a1f\", element=\"f.6B42AC91FF9196CB5E0DE17DF5967E2E.d.CCF8B42FBC005C1874371086C78CE064.e.72\")>,\n",
       " <selenium.webdriver.remote.webelement.WebElement (session=\"6740400a40242730d5f1d39a412d2a1f\", element=\"f.6B42AC91FF9196CB5E0DE17DF5967E2E.d.CCF8B42FBC005C1874371086C78CE064.e.73\")>,\n",
       " <selenium.webdriver.remote.webelement.WebElement (session=\"6740400a40242730d5f1d39a412d2a1f\", element=\"f.6B42AC91FF9196CB5E0DE17DF5967E2E.d.CCF8B42FBC005C1874371086C78CE064.e.74\")>,\n",
       " <selenium.webdriver.remote.webelement.WebElement (session=\"6740400a40242730d5f1d39a412d2a1f\", element=\"f.6B42AC91FF9196CB5E0DE17DF5967E2E.d.CCF8B42FBC005C1874371086C78CE064.e.75\")>,\n",
       " <selenium.webdriver.remote.webelement.WebElement (session=\"6740400a40242730d5f1d39a412d2a1f\", element=\"f.6B42AC91FF9196CB5E0DE17DF5967E2E.d.CCF8B42FBC005C1874371086C78CE064.e.76\")>,\n",
       " <selenium.webdriver.remote.webelement.WebElement (session=\"6740400a40242730d5f1d39a412d2a1f\", element=\"f.6B42AC91FF9196CB5E0DE17DF5967E2E.d.CCF8B42FBC005C1874371086C78CE064.e.77\")>,\n",
       " <selenium.webdriver.remote.webelement.WebElement (session=\"6740400a40242730d5f1d39a412d2a1f\", element=\"f.6B42AC91FF9196CB5E0DE17DF5967E2E.d.CCF8B42FBC005C1874371086C78CE064.e.78\")>,\n",
       " <selenium.webdriver.remote.webelement.WebElement (session=\"6740400a40242730d5f1d39a412d2a1f\", element=\"f.6B42AC91FF9196CB5E0DE17DF5967E2E.d.CCF8B42FBC005C1874371086C78CE064.e.79\")>,\n",
       " <selenium.webdriver.remote.webelement.WebElement (session=\"6740400a40242730d5f1d39a412d2a1f\", element=\"f.6B42AC91FF9196CB5E0DE17DF5967E2E.d.CCF8B42FBC005C1874371086C78CE064.e.80\")>,\n",
       " <selenium.webdriver.remote.webelement.WebElement (session=\"6740400a40242730d5f1d39a412d2a1f\", element=\"f.6B42AC91FF9196CB5E0DE17DF5967E2E.d.CCF8B42FBC005C1874371086C78CE064.e.81\")>]"
      ]
     },
     "execution_count": 50,
     "metadata": {},
     "output_type": "execute_result"
    }
   ],
   "source": [
    "search_results = driver.find_elements(By.CSS_SELECTOR, \"h3\")\n",
    "search_results"
   ]
  },
  {
   "cell_type": "code",
   "execution_count": 51,
   "id": "60be399f-6e66-41b3-872b-9dc83072b0fe",
   "metadata": {},
   "outputs": [
    {
     "name": "stdout",
     "output_type": "stream",
     "text": [
      "        Date       Open       High        Low      Close  Adj Close  \\\n",
      "0 2025-02-16  97,586.36  97,712.33  96,767.78  97,051.89  97,051.89   \n",
      "1 2025-02-15  97,508.38  97,975.04  97,240.20  97,580.35  97,580.35   \n",
      "2 2025-02-14  96,623.37  98,819.47  96,342.80  97,508.97  97,508.97   \n",
      "3 2025-02-13  97,888.75  98,111.09  95,269.71  96,623.87  96,623.87   \n",
      "4 2025-02-12  95,745.70  98,151.02  94,101.20  97,885.86  97,885.86   \n",
      "\n",
      "           Volume  \n",
      "0  15,155,791,872  \n",
      "1  17,047,266,288  \n",
      "2  32,697,987,277  \n",
      "3  37,147,280,860  \n",
      "4  49,340,445,530  \n"
     ]
    }
   ],
   "source": [
    "search_results[0].click()\n",
    "\n",
    "\n",
    "WebDriverWait(driver, 20).until(EC.presence_of_element_located((By.XPATH, \"//table\")))\n",
    "\n",
    "soup = BeautifulSoup(driver.page_source, \"html.parser\")\n",
    "table = soup.find(\"table\")\n",
    "rows = table.find_all(\"tr\")\n",
    "\n",
    "\n",
    "data = []\n",
    "for row in rows[1:]:\n",
    "    cols = row.find_all(\"td\")\n",
    "    if len(cols) == 7:\n",
    "        data.append({\n",
    "            \"Date\": cols[0].text.strip(),\n",
    "            \"Open\": cols[1].text.strip(),\n",
    "            \"High\": cols[2].text.strip(),\n",
    "            \"Low\": cols[3].text.strip(),\n",
    "            \"Close\": cols[4].text.strip(),\n",
    "            \"Adj Close\": cols[5].text.strip(),\n",
    "            \"Volume\": cols[6].text.strip(),\n",
    "        })\n",
    "\n",
    "\n",
    "driver.quit()\n",
    "\n",
    "\n",
    "df = pd.DataFrame(data)\n",
    "df[\"Date\"] = pd.to_datetime(df[\"Date\"], errors='coerce')\n",
    "\n",
    "\n",
    "three_months_ago = pd.to_datetime(\"today\") - pd.DateOffset(months=3)\n",
    "df = df[df[\"Date\"] >= three_months_ago]\n",
    "\n",
    "\n",
    "df.to_csv(\"bitcoin_historical_data.csv\", index=False)\n",
    "print(df.tail())"
   ]
  },
  {
   "cell_type": "code",
   "execution_count": 52,
   "id": "9e623199-c385-40b3-97dc-5c375b85287c",
   "metadata": {},
   "outputs": [
    {
     "name": "stdout",
     "output_type": "stream",
     "text": [
      "         Date       Open       High        Low      Close  Adj Close  \\\n",
      "87 2024-11-21  94,334.64  99,014.22  94,132.60  98,504.73  98,504.73   \n",
      "88 2024-11-20  92,341.89  94,902.02  91,619.50  94,339.49  94,339.49   \n",
      "89 2024-11-19  90,536.81  94,002.87  90,426.98  92,343.79  92,343.79   \n",
      "90 2024-11-18  89,843.72  92,596.79  89,393.59  90,542.64  90,542.64   \n",
      "91 2024-11-17  90,558.46  91,433.04  88,741.66  89,845.85  89,845.85   \n",
      "\n",
      "             Volume  \n",
      "87  106,024,505,582  \n",
      "88   71,730,956,426  \n",
      "89   74,521,048,295  \n",
      "90   75,535,775,084  \n",
      "91   46,350,159,305  \n"
     ]
    }
   ],
   "source": [
    "print(df.tail())"
   ]
  },
  {
   "cell_type": "code",
   "execution_count": null,
   "id": "90f5af12-2d24-45b9-aa56-5cf1a3a44de7",
   "metadata": {},
   "outputs": [],
   "source": []
  }
 ],
 "metadata": {
  "kernelspec": {
   "display_name": "Python 3 (ipykernel)",
   "language": "python",
   "name": "python3"
  },
  "language_info": {
   "codemirror_mode": {
    "name": "ipython",
    "version": 3
   },
   "file_extension": ".py",
   "mimetype": "text/x-python",
   "name": "python",
   "nbconvert_exporter": "python",
   "pygments_lexer": "ipython3",
   "version": "3.10.0"
  }
 },
 "nbformat": 4,
 "nbformat_minor": 5
}
